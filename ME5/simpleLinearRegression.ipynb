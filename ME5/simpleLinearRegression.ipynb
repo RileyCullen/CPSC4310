{
 "cells": [
  {
   "cell_type": "markdown",
   "metadata": {},
   "source": [
    "### ME5: Simple Linear Regression on COVID-19 Datasets\n",
    "\n",
    "\n",
    "#### Learning the data using visualization and simple linear regression\n",
    "\n",
    "1. First, run the examples and understand the ML process and be familir with Python package functions for simple linear regression. \n",
    "\n",
    "2. Apply exploratory data analysis and simple regression on COVID-19 dataset(s). "
   ]
  },
  {
   "cell_type": "markdown",
   "metadata": {},
   "source": [
    "#### Write your name and your collaborators if any.\n",
    "\n",
    "- Riley Cullen\n",
    "\n",
    "- Mason Adsero  "
   ]
  },
  {
   "cell_type": "markdown",
   "metadata": {},
   "source": [
    "### Part 0: Recap of regression model evaluation\n",
    "\n",
    "#### Regression modeling\n",
    "\n",
    "Cross validation:\n",
    "- https://scikit-learn.org/stable/modules/cross_validation.html\n",
    "\n",
    "Model evaluation:\n",
    "- https://scikit-learn.org/stable/modules/model_evaluation.html\n",
    "\n",
    "Linear regression:\n",
    "- https://scikit-learn.org/stable/modules/generated/sklearn.linear_model.LinearRegression.html\n",
    "\n",
    "Logistic regression (In general, logistic regressions are used for classification):\n",
    "- https://scikit-learn.org/stable/modules/generated/sklearn.linear_model.LogisticRegression.html\n",
    "\n",
    "#### Model evaluation metrics for regression models\n",
    "\n",
    "First, Let's review model evaluation metrics for regression models. \n",
    "\n",
    "Evaluation metrics for classification problems, such as **accuracy**, are not useful for regression problems. Instead, we need evaluation metrics designed for comparing continuous values.\n",
    "\n",
    "Let's create some example numeric predictions, and calculate **three common evaluation metrics** for regression problems:\n",
    "\n",
    "\n",
    "**Mean Absolute Error** (MAE) is the mean of the absolute value of the errors:\n",
    "\n",
    "$$\\frac 1n\\sum_{i=1}^n|y_i-\\hat{y}_i|$$\n",
    "\n",
    "**Mean Squared Error** (MSE) is the mean of the squared errors:\n",
    "\n",
    "$$\\frac 1n\\sum_{i=1}^n(y_i-\\hat{y}_i)^2$$\n",
    "\n",
    "**Root Mean Squared Error** (RMSE) is the square root of the mean of the squared errors:\n",
    "\n",
    "$$\\sqrt{\\frac 1n\\sum_{i=1}^n(y_i-\\hat{y}_i)^2}$$\n",
    "\n",
    "Comparing these metrics:\n",
    "\n",
    "- **MAE** is the easiest to understand, because it's the average error.\n",
    "- **MSE** is more popular than MAE, because MSE \"punishes\" larger errors.\n",
    "- **RMSE** is even more popular than MSE, because RMSE is interpretable in the \"y\" units.\n",
    "\n",
    "#### The R2 (\"r-squared\") Regression Score\n",
    "\n",
    "- Measures how well a prediction model for regression fits the given data.\n",
    "\n",
    "- The score is between 0 and 1:\n",
    "\n",
    "     - A value of 0 corresponds to a constant model that predicts the mean value of all training target values.\n",
    "\n",
    "     - A value of 1 corresponds to perfect prediction\n",
    "\n",
    "- Also known as \"coefficient of determination\""
   ]
  },
  {
   "cell_type": "markdown",
   "metadata": {},
   "source": [
    "## Part 0 - Simple Linear Regression Examples\n",
    "\n",
    "Two linear regression models:\n",
    "\n",
    "(1) A real dataset: each data tuple has one attribute in X and its corresponding y value. \n",
    "\n",
    "(2) A synthetic dataset: each data tuple has two attributes in X and its corresponding y value. "
   ]
  },
  {
   "cell_type": "markdown",
   "metadata": {},
   "source": [
    "###  (1) Simple Linear Regression Example - one attribute in X\n",
    "\n",
    "Simple linear regression is an approach for predicting a **quantitative response** using a **single feature** (or \"predictor\" or \"input variable\"). It takes the following form:\n",
    "\n",
    "$y = \\theta_0x_0 + \\theta_1x_1$\n",
    "\n",
    "- $y$ is the response\n",
    "- $x_0 = 1$\n",
    "- $x_1$ is the attribute\n",
    "- $\\theta_0$ is the coeffficient for $x_0$ (intercept)\n",
    "- $\\theta_1$ is the coefficient for $x_1$\n",
    "\n",
    "The $\\theta$ values are called the **model coefficients**. These values are \"learned\" during the model fitting step using the \"least squares\" criterion. Then, the fitted model can be used to make predictions!"
   ]
  },
  {
   "cell_type": "markdown",
   "metadata": {},
   "source": [
    "Follow the code and observe the results"
   ]
  },
  {
   "cell_type": "code",
   "execution_count": 170,
   "metadata": {},
   "outputs": [],
   "source": [
    "# Python ≥3.5 is required\n",
    "import sys\n",
    "assert sys.version_info >= (3, 5)"
   ]
  },
  {
   "cell_type": "code",
   "execution_count": 171,
   "metadata": {},
   "outputs": [],
   "source": [
    "# Scikit-Learn ≥0.20 is required\n",
    "import sklearn\n",
    "assert sklearn.__version__ >= \"0.20\""
   ]
  },
  {
   "cell_type": "markdown",
   "metadata": {},
   "source": [
    "### Data Preparation\n",
    "\n",
    "The code expects the data files to be located in the current directory. Fetch the files in datasets/lifesat."
   ]
  },
  {
   "cell_type": "markdown",
   "metadata": {},
   "source": [
    "This function just merges the OECD's life satisfaction data and the IMF's GDP per capita data. It's a bit too long and boring and it's not specific to Machine Learning, which is why I left it out of the book."
   ]
  },
  {
   "cell_type": "code",
   "execution_count": 172,
   "metadata": {},
   "outputs": [],
   "source": [
    "def prepare_country_stats(oecd_bli, gdp_per_capita):\n",
    "    oecd_bli = oecd_bli[oecd_bli[\"INEQUALITY\"]==\"TOT\"]\n",
    "    oecd_bli = oecd_bli.pivot(index=\"Country\", columns=\"Indicator\", values=\"Value\")\n",
    "    gdp_per_capita.rename(columns={\"2015\": \"GDP per capita\"}, inplace=True)\n",
    "    gdp_per_capita.set_index(\"Country\", inplace=True)\n",
    "    \n",
    "    full_country_stats = pd.merge(left=oecd_bli, right=gdp_per_capita,\n",
    "                                  left_index=True, right_index=True)\n",
    "    \n",
    "    full_country_stats.sort_values(by=\"GDP per capita\", inplace=True)\n",
    "    remove_indices = [0, 1, 6, 8, 33, 34, 35]\n",
    "    keep_indices = list(set(range(36)) - set(remove_indices))\n",
    "    \n",
    "    return full_country_stats[['GDP per capita', 'Life satisfaction']].iloc[keep_indices]"
   ]
  },
  {
   "cell_type": "code",
   "execution_count": 173,
   "metadata": {},
   "outputs": [],
   "source": [
    "import os\n",
    "datapath = os.path.join(\"datasets\", \"lifesat\", \"\")"
   ]
  },
  {
   "cell_type": "code",
   "execution_count": 174,
   "metadata": {},
   "outputs": [
    {
     "name": "stdout",
     "output_type": "stream",
     "text": [
      "Downloading oecd_bli_2015.csv\n",
      "Downloading gdp_per_capita.csv\n"
     ]
    }
   ],
   "source": [
    "# Download the data\n",
    "import urllib\n",
    "DOWNLOAD_ROOT = \"https://raw.githubusercontent.com/ageron/handson-ml2/master/\"\n",
    "os.makedirs(datapath, exist_ok=True)\n",
    "\n",
    "for filename in (\"oecd_bli_2015.csv\", \"gdp_per_capita.csv\"):\n",
    "    print(\"Downloading\", filename)\n",
    "    url = DOWNLOAD_ROOT + \"datasets/lifesat/\" + filename\n",
    "    urllib.request.urlretrieve(url, datapath + filename)"
   ]
  },
  {
   "cell_type": "markdown",
   "metadata": {},
   "source": [
    "#### Load the data into a DataFrame"
   ]
  },
  {
   "cell_type": "code",
   "execution_count": 175,
   "metadata": {},
   "outputs": [],
   "source": [
    "# Code example of load the data and prepared the data\n",
    "import matplotlib.pyplot as plt\n",
    "import numpy as np\n",
    "import pandas as pd\n",
    "import sklearn.linear_model\n",
    "\n",
    "# Load the data\n",
    "oecd_bli = pd.read_csv(datapath + \"oecd_bli_2015.csv\", thousands=',')\n",
    "gdp_per_capita = pd.read_csv(datapath + \"gdp_per_capita.csv\",thousands=',',delimiter='\\t',\n",
    "                             encoding='latin1', na_values=\"n/a\")"
   ]
  },
  {
   "cell_type": "markdown",
   "metadata": {},
   "source": [
    "#### Select the data and visualize it"
   ]
  },
  {
   "cell_type": "code",
   "execution_count": 176,
   "metadata": {},
   "outputs": [],
   "source": [
    "# To plot pretty figures directly within Jupyter\n",
    "%matplotlib inline\n",
    "import matplotlib as mpl\n",
    "\n",
    "mpl.rc('axes', labelsize=14)\n",
    "mpl.rc('xtick', labelsize=12)\n",
    "mpl.rc('ytick', labelsize=12)"
   ]
  },
  {
   "cell_type": "code",
   "execution_count": 177,
   "metadata": {},
   "outputs": [
    {
     "data": {
      "image/png": "[encoded data removed]",
      "text/plain": [
       "<Figure size 432x288 with 1 Axes>"
      ]
     },
     "metadata": {
      "needs_background": "light"
     },
     "output_type": "display_data"
    }
   ],
   "source": [
    "# Prepare the data\n",
    "country_stats = prepare_country_stats(oecd_bli, gdp_per_capita)\n",
    "\n",
    "X = np.c_[country_stats['GDP per capita']]\n",
    "y = np.c_[country_stats['Life satisfaction']]\n",
    "\n",
    "# Visualize the data\n",
    "country_stats.plot(kind='scatter', x=\"GDP per capita\", y='Life satisfaction')\n",
    "plt.show()"
   ]
  },
  {
   "cell_type": "code",
   "execution_count": 178,
   "metadata": {},
   "outputs": [
    {
     "data": {
      "text/plain": [
       "(29, 1)"
      ]
     },
     "execution_count": 178,
     "metadata": {},
     "output_type": "execute_result"
    }
   ],
   "source": [
    "X.shape"
   ]
  },
  {
   "cell_type": "code",
   "execution_count": 179,
   "metadata": {},
   "outputs": [
    {
     "data": {
      "text/plain": [
       "(29, 1)"
      ]
     },
     "execution_count": 179,
     "metadata": {},
     "output_type": "execute_result"
    }
   ],
   "source": [
    "y.shape"
   ]
  },
  {
   "cell_type": "markdown",
   "metadata": {},
   "source": [
    "### Build a simple regression model"
   ]
  },
  {
   "cell_type": "markdown",
   "metadata": {},
   "source": [
    "\n",
    "#### Create a simple linear regression \n",
    "\n",
    "https://scikit-learn.org/stable/modules/generated/sklearn.linear_model.LinearRegression.html"
   ]
  },
  {
   "cell_type": "code",
   "execution_count": 180,
   "metadata": {},
   "outputs": [
    {
     "data": {
      "text/plain": [
       "LinearRegression()"
      ]
     },
     "execution_count": 180,
     "metadata": {},
     "output_type": "execute_result"
    }
   ],
   "source": [
    "# import model\n",
    "from sklearn.linear_model import LinearRegression\n",
    "\n",
    "# Create a simple linear regression model\n",
    "model = LinearRegression()\n",
    "\n",
    "# Train the model (we use all data for training --> Later we will divide the data into training data and testing data)\n",
    "model.fit(X, y)"
   ]
  },
  {
   "cell_type": "code",
   "execution_count": 181,
   "metadata": {},
   "outputs": [
    {
     "name": "stdout",
     "output_type": "stream",
     "text": [
      "[[4.91154459e-05]]\n",
      "[4.8530528]\n"
     ]
    }
   ],
   "source": [
    "print(model.coef_)\n",
    "print(model.intercept_)"
   ]
  },
  {
   "cell_type": "markdown",
   "metadata": {},
   "source": [
    "#### Predict y for a new X value"
   ]
  },
  {
   "cell_type": "code",
   "execution_count": 182,
   "metadata": {},
   "outputs": [
    {
     "data": {
      "text/plain": [
       "array([[5.96242338]])"
      ]
     },
     "execution_count": 182,
     "metadata": {},
     "output_type": "execute_result"
    }
   ],
   "source": [
    "# Make a prediction for Cyprus \n",
    "# new data value 22587 for Cyprus's GDP per capita\n",
    "\n",
    "X_new = [[22587]]\n",
    "\n",
    "y_predict = model.predict(X_new)\n",
    "\n",
    "y_predict"
   ]
  },
  {
   "cell_type": "markdown",
   "metadata": {},
   "source": [
    "#### Plot a scatter graph together with the regression function"
   ]
  },
  {
   "cell_type": "code",
   "execution_count": 183,
   "metadata": {},
   "outputs": [
    {
     "data": {
      "image/png": "[encoded data removed]",
      "text/plain": [
       "<Figure size 432x288 with 1 Axes>"
      ]
     },
     "metadata": {
      "needs_background": "light"
     },
     "output_type": "display_data"
    }
   ],
   "source": [
    "# Plot scatterplot \n",
    "plt.scatter(X, y, c='red', label='observed')\n",
    "plt.legend(loc='best')\n",
    "\n",
    "plt.xlabel('GDP per capita')\n",
    "plt.ylabel('Life satisfaction')\n",
    "plt.title('Regression')\n",
    "\n",
    "# plot the regression function\n",
    "plt.plot(X, model.predict(X), c='green', label='fitted', linewidth=2)\n",
    "\n",
    "plt.show()"
   ]
  },
  {
   "cell_type": "markdown",
   "metadata": {},
   "source": [
    "### Model Evaluation Example"
   ]
  },
  {
   "cell_type": "markdown",
   "metadata": {},
   "source": [
    "#### 1. Preparing X and y using pandas\n",
    "- We already did this process above\n",
    "- scikit-learn expects X (feature matrix) and y (response vector) to be NumPy arrays.\n",
    "- However, pandas is built on top of NumPy.\n",
    "- Thus, X can be a pandas DataFrame and y can be a pandas Series!\n",
    "\n",
    "See more details about Pandas Series and Numpy\n",
    "\n",
    "- https://pandas.pydata.org/pandas-docs/stable/reference/api/pandas.Series.html"
   ]
  },
  {
   "cell_type": "markdown",
   "metadata": {},
   "source": [
    "#### 2. Splitting X and y into training and testing sets\n",
    "\n",
    "We are using the same data that is stored X, y above. "
   ]
  },
  {
   "cell_type": "code",
   "execution_count": 184,
   "metadata": {},
   "outputs": [],
   "source": [
    "from sklearn.model_selection import train_test_split\n",
    "\n",
    "# split the data into training and testing (test data size 30%)\n",
    "\n",
    "X_train, X_test, y_train, y_test = train_test_split(X, y,\n",
    "                                        test_size=0.3, random_state=1)\n"
   ]
  },
  {
   "cell_type": "markdown",
   "metadata": {},
   "source": [
    "#### 3. Linear regression in scikit-learn"
   ]
  },
  {
   "cell_type": "code",
   "execution_count": 185,
   "metadata": {},
   "outputs": [
    {
     "data": {
      "text/plain": [
       "LinearRegression()"
      ]
     },
     "execution_count": 185,
     "metadata": {},
     "output_type": "execute_result"
    }
   ],
   "source": [
    "# import model\n",
    "from sklearn.linear_model import LinearRegression\n",
    "\n",
    "# instantiate a simple linear regression model \n",
    "linreg = LinearRegression()\n",
    "\n",
    "\n",
    "# fit the model to the training data (learn the coefficients)\n",
    "linreg.fit(X_train, y_train)"
   ]
  },
  {
   "cell_type": "markdown",
   "metadata": {},
   "source": [
    "#### 4. Making predictions for testing data\n",
    "\n",
    "Use X_test"
   ]
  },
  {
   "cell_type": "code",
   "execution_count": 186,
   "metadata": {},
   "outputs": [
    {
     "data": {
      "text/plain": [
       "array([[6.59031623],\n",
       "       [6.90629497],\n",
       "       [6.82350342],\n",
       "       [6.90057464],\n",
       "       [7.24870458],\n",
       "       [6.88774681],\n",
       "       [5.42891846],\n",
       "       [6.12434396],\n",
       "       [7.19687366]])"
      ]
     },
     "execution_count": 186,
     "metadata": {},
     "output_type": "execute_result"
    }
   ],
   "source": [
    "# make predictions on the testing set\n",
    "y_pred = linreg.predict(X_test)\n",
    "y_pred"
   ]
  },
  {
   "cell_type": "code",
   "execution_count": 187,
   "metadata": {},
   "outputs": [
    {
     "name": "stdout",
     "output_type": "stream",
     "text": [
      "0.71190057557096\n"
     ]
    }
   ],
   "source": [
    "print(linreg.score(X_train, y_train))"
   ]
  },
  {
   "cell_type": "code",
   "execution_count": 188,
   "metadata": {},
   "outputs": [
    {
     "name": "stdout",
     "output_type": "stream",
     "text": [
      "0.5844350680603294\n"
     ]
    }
   ],
   "source": [
    "print(linreg.score(X_test, y_test))"
   ]
  },
  {
   "cell_type": "markdown",
   "metadata": {},
   "source": [
    "#### 5. Computing the RMSE \n",
    "\n",
    "https://scikit-learn.org/stable/modules/model_evaluation.html"
   ]
  },
  {
   "cell_type": "code",
   "execution_count": 189,
   "metadata": {},
   "outputs": [
    {
     "data": {
      "text/plain": [
       "0.39596209321120834"
      ]
     },
     "execution_count": 189,
     "metadata": {},
     "output_type": "execute_result"
    }
   ],
   "source": [
    "from sklearn import metrics\n",
    "\n",
    "rmse = np.sqrt(metrics.mean_squared_error(y_test, y_pred))\n",
    "rmse"
   ]
  },
  {
   "cell_type": "markdown",
   "metadata": {},
   "source": [
    "#### 6. K Cross Validation and Learning Curve"
   ]
  },
  {
   "cell_type": "code",
   "execution_count": 190,
   "metadata": {},
   "outputs": [
    {
     "name": "stdout",
     "output_type": "stream",
     "text": [
      "KFold(n_splits=3, random_state=None, shuffle=True)\n"
     ]
    }
   ],
   "source": [
    "from sklearn.model_selection import KFold # import k-fold validation\n",
    "\n",
    "kf = KFold(n_splits=3, random_state=None, shuffle=True) # Define the split - into 3 folds \n",
    "\n",
    "kf.get_n_splits(X) # returns the number of splitting iterations in the cross-validator\n",
    "\n",
    "print(kf) "
   ]
  },
  {
   "cell_type": "markdown",
   "metadata": {},
   "source": [
    "##### Setting up a testbed using KFold "
   ]
  },
  {
   "cell_type": "code",
   "execution_count": 191,
   "metadata": {},
   "outputs": [
    {
     "name": "stdout",
     "output_type": "stream",
     "text": [
      "[0.47930617290157135, 0.33512130096322756, 0.576964225889071]\n",
      "[0.6579297090804779, 0.7495399501354012, 0.6407686496880126]\n"
     ]
    }
   ],
   "source": [
    "# Let's create a new simple linear regressor\n",
    "linreg = LinearRegression()\n",
    "\n",
    "# Conduct 3-fold cross validation\n",
    "\n",
    "rmse = []\n",
    "r2 = []\n",
    "for train_index, test_index in kf.split(X):\n",
    "\n",
    "    X_train, X_test = X[train_index], X[test_index]\n",
    "    y_train, y_test = y[train_index], y[test_index]\n",
    "    \n",
    "    linreg.fit(X_train, y_train)\n",
    "    y_pred = linreg.predict(X_test)\n",
    "    \n",
    "    rmse.append(np.sqrt(metrics.mean_squared_error(y_test, y_pred)))\n",
    "    r2.append(metrics.r2_score(y_test, y_pred))\n",
    "\n",
    "\n",
    "print(rmse)\n",
    "print(r2)"
   ]
  },
  {
   "cell_type": "markdown",
   "metadata": {},
   "source": [
    "#### Learning Curve\n",
    "\n",
    "Check the details for learning curve\n",
    "\n",
    "https://scikit-learn.org/stable/modules/generated/sklearn.model_selection.learning_curve.html"
   ]
  },
  {
   "cell_type": "code",
   "execution_count": 192,
   "metadata": {},
   "outputs": [
    {
     "name": "stdout",
     "output_type": "stream",
     "text": [
      "[[0.26349597 0.33116743 0.60073814]\n",
      " [0.52164109 0.62123952 0.66654196]\n",
      " [0.48293186 0.60710828 0.64319599]\n",
      " [0.58668776 0.63247405 0.69654678]\n",
      " [0.6069565  0.61292945 0.67584272]]\n",
      "[[1.04932178 0.71233906 1.14082114]\n",
      " [0.92292828 0.65242715 0.80627408]\n",
      " [0.90236956 0.66439034 0.75445608]\n",
      " [0.75867261 0.68508789 0.58643366]\n",
      " [0.73308092 0.68666265 0.57686969]]\n"
     ]
    },
    {
     "data": {
      "image/png": "[encoded data removed]",
      "text/plain": [
       "<Figure size 360x216 with 1 Axes>"
      ]
     },
     "metadata": {
      "needs_background": "light"
     },
     "output_type": "display_data"
    }
   ],
   "source": [
    "from sklearn.model_selection import learning_curve\n",
    "    \n",
    "# evaluate the training and testing and retrieve the information of model performance. \n",
    "\n",
    "train_sizes = np.linspace(0.2, 0.8, 5)\n",
    "\n",
    "\n",
    "train_sizes, train_mse, test_mse = learning_curve(linreg, X, y, \n",
    "                                    train_sizes = train_sizes, \n",
    "                                    scoring='neg_root_mean_squared_error', \n",
    "                                    cv=3, shuffle=True)\n",
    "\n",
    "train_scores = np.sqrt(np.abs(train_mse))\n",
    "test_scores = np.sqrt(np.abs(test_mse))\n",
    "\n",
    "print(train_scores)\n",
    "print(test_scores)\n",
    "\n",
    "train_scores_mean = np.mean(train_scores, axis=1)\n",
    "test_scores_mean = np.mean(test_scores, axis=1)\n",
    "\n",
    "# Plot learning curve\n",
    "fig, ax = plt.subplots(1, 1, figsize=(5, 3))\n",
    "    \n",
    "ax.set_title('A learning curve for a simple linear regression')\n",
    "ax.set_xlabel(\"Training examples\")\n",
    "ax.set_ylabel(\"Score (RMSE)\")\n",
    "ax.grid()\n",
    "\n",
    "ax.plot(train_sizes, train_scores_mean, 'o-', color=\"r\", label=\"Training score\")\n",
    "ax.plot(train_sizes, test_scores_mean, 'o-', color=\"g\", label=\"Cross-validation score\")\n",
    "ax.legend(loc=\"best\")\n",
    "\n",
    "plt.show()"
   ]
  },
  {
   "cell_type": "markdown",
   "metadata": {},
   "source": [
    "### (2) Multivariate Linear Regression on a Synthetic Dataset\n",
    "\n",
    "Simple linear regression can easily be extended to include multiple features. This is called **multiple linear regression**:\n",
    "### Form of linear regression\n",
    "\n",
    "$y = \\theta_0x_0 + \\theta_1x_1 + \\theta_2x_2 + ... + \\theta_nx_n$\n",
    "\n",
    "- $y$ is the response\n",
    "- $x_0 = 1$\n",
    "- $x_1, x_2, ..., x_n$ are attributes\n",
    "- $\\theta_0$ is the coeffficient for $x_0$ (intercept)\n",
    "- $\\theta_1$ is the coefficient for $x_1$ (the first attribute)\n",
    "- $\\theta_n$ is the coefficient for $x_n$ (the nth attribute)\n",
    "\n",
    "The $\\theta$ values are called the **model coefficients**. These values are \"learned\" during the model fitting step using the \"least squares\" criterion. Then, the fitted model can be used to make predictions!"
   ]
  },
  {
   "cell_type": "markdown",
   "metadata": {},
   "source": [
    "#### Generate a synthetic data\n",
    "- Each data tuple has 4 attributes in X and its corresponding y value. \n",
    "\n",
    "- For generating a random dataset of n=1000 samples for regression modeling, see the detail:\n",
    "\n",
    "https://scikit-learn.org/stable/modules/generated/sklearn.datasets.make_regression.html#sklearn.datasets.make_regression"
   ]
  },
  {
   "cell_type": "code",
   "execution_count": 193,
   "metadata": {},
   "outputs": [
    {
     "data": {
      "image/png": "[encoded data removed]",
      "text/plain": [
       "<Figure size 432x288 with 1 Axes>"
      ]
     },
     "metadata": {
      "needs_background": "light"
     },
     "output_type": "display_data"
    }
   ],
   "source": [
    "# synthetic dataset for classification (binary)\n",
    "from sklearn.datasets import make_regression, make_blobs\n",
    "\n",
    "plt.figure()\n",
    "plt.title('Sample binary classification problem with two informative features')\n",
    "\n",
    "# generate X values and y values\n",
    "# check make_regression() for other parameters\n",
    "X, y = make_regression(n_samples = 1000, n_features=5,\n",
    "                                n_informative=2,n_targets=1,\n",
    "                                noise=0.0, random_state=0)\n",
    "\n",
    "# Warning!!! scatter() function can handle only 2 dimensions\n",
    "# Hence you pick two attributes only and plot the data\n",
    "plt.scatter(X[:, 0], X[:, 3])\n",
    "plt.show()"
   ]
  },
  {
   "cell_type": "markdown",
   "metadata": {},
   "source": [
    "#### Split the data into training and test data"
   ]
  },
  {
   "cell_type": "code",
   "execution_count": 194,
   "metadata": {},
   "outputs": [],
   "source": [
    "from sklearn.model_selection import train_test_split\n",
    "\n",
    "# split the data into training and testing (test data size 30%)\n",
    "\n",
    "X_train, X_test, y_train, y_test = train_test_split(X, y,\n",
    "                                        test_size=0.3, random_state=1)"
   ]
  },
  {
   "cell_type": "markdown",
   "metadata": {},
   "source": [
    "#### Build a inear regression model"
   ]
  },
  {
   "cell_type": "code",
   "execution_count": 195,
   "metadata": {},
   "outputs": [
    {
     "data": {
      "text/plain": [
       "LinearRegression()"
      ]
     },
     "execution_count": 195,
     "metadata": {},
     "output_type": "execute_result"
    }
   ],
   "source": [
    "# import model\n",
    "from sklearn.linear_model import LinearRegression\n",
    "\n",
    "# instantiate a simple linear regression model \n",
    "linreg = LinearRegression()\n",
    "\n",
    "\n",
    "# fit the model to the training data (learn the coefficients)\n",
    "linreg.fit(X_train, y_train)"
   ]
  },
  {
   "cell_type": "markdown",
   "metadata": {},
   "source": [
    "#### Prediction"
   ]
  },
  {
   "cell_type": "code",
   "execution_count": 196,
   "metadata": {},
   "outputs": [
    {
     "data": {
      "text/plain": [
       "array([-8.14571146e+01, -1.35144652e+02, -8.36661599e+01,  1.04061111e+02,\n",
       "        8.08212553e+01,  1.12001966e+02, -9.52264283e+01, -6.71360609e+01,\n",
       "       -3.10738668e+01,  7.17730923e+01, -6.04865862e+01, -1.61411034e+02,\n",
       "       -3.48197850e+01, -2.61664993e+01, -1.10917919e+02, -3.69792740e+01,\n",
       "        5.72945882e+01,  6.08954729e+01,  1.90400352e+01, -9.20592621e+01,\n",
       "        3.26527660e+01,  5.84659596e+01, -3.37699902e+01, -1.09540887e+01,\n",
       "       -8.53749279e+01,  6.47397472e+01,  1.41425800e+02,  5.06241812e+01,\n",
       "        5.54051450e+00,  2.55206676e+01,  5.19136063e+00, -7.34221922e+01,\n",
       "        6.94669141e+01, -1.43148064e+01, -3.05407500e+01,  1.31091422e+01,\n",
       "       -1.02154641e+02, -5.41160364e+01, -5.85203338e+01, -1.85263783e+01,\n",
       "       -1.05525139e+02, -5.86956961e+01,  5.51164958e+01,  3.02243404e+01,\n",
       "        5.73808239e+01, -9.78340785e+00, -1.79893145e+00,  1.36509701e+02,\n",
       "       -6.27068524e+01, -5.19580973e+01, -1.22732433e-01,  2.24983673e+01,\n",
       "        7.24229493e+01,  5.95130354e+00, -5.12620381e+01, -1.13935896e+02,\n",
       "       -1.17500805e+02, -2.57577831e+01,  8.43324959e+01,  1.96584571e+01,\n",
       "        2.68007815e+01, -2.30336037e+01, -1.91469255e+02,  9.78500977e+01,\n",
       "       -6.17738370e+01,  3.50174620e+01,  6.04789805e+01,  7.69721122e+01,\n",
       "       -3.03057995e+01, -8.33005251e+00,  7.71960851e+00, -6.29853312e+01,\n",
       "        1.81831688e+01, -6.09873036e+01, -2.44240958e+01,  2.39433425e+00,\n",
       "       -4.61233607e+01, -3.36000009e+01,  9.92634911e+01, -1.44809466e+02,\n",
       "        1.19135591e+02,  4.76880193e+01,  3.79673670e+01, -1.39530728e+00,\n",
       "       -1.30269661e+02,  9.71846739e+01, -7.09287640e+01, -2.86513043e+01,\n",
       "       -3.70531799e+01,  9.83763898e+01,  8.83322912e+01, -4.93091970e+01,\n",
       "        4.49067655e+01, -1.94696963e+01,  1.96453800e+00, -8.29146083e+01,\n",
       "        1.01026693e+02,  6.17965646e+01,  4.49436711e+01,  3.42101710e+01,\n",
       "       -4.27785862e+01,  5.14841840e+01,  3.76650729e+01, -1.03859470e+01,\n",
       "       -2.93291625e+01, -3.04385448e+00,  4.88924644e+01, -8.72952921e+00,\n",
       "       -4.40472000e+01, -8.90193421e+00, -2.71124049e+01, -6.30374045e+01,\n",
       "       -8.06208686e+01, -1.07825542e+02, -2.27950506e+01,  1.23668890e+01,\n",
       "        2.10993277e+01,  7.74699607e+01, -8.85189299e+00, -4.24925354e+01,\n",
       "       -8.32482681e+00,  6.03427819e+00,  1.56835125e+02,  1.45931936e+01,\n",
       "        9.00011531e+01, -1.99525614e+01, -6.81889818e+01, -6.50609902e+01,\n",
       "        6.64322115e+00,  1.07752621e+02,  5.27093131e+01, -3.59543668e+01,\n",
       "        2.19556168e+01, -4.37284556e+01, -8.59827914e+00, -6.46779835e+00,\n",
       "       -3.27066358e+01,  1.42270710e+01,  2.56972235e+01,  4.75735176e+01,\n",
       "        3.65310112e+00,  1.23647132e+01, -1.29153289e-01,  1.59943903e+02,\n",
       "        6.59881681e+01, -9.45346851e+01,  5.26967379e+01, -3.82510405e+00,\n",
       "        9.87017962e+01, -3.87177185e+01,  5.12626724e+01, -3.94949118e+00,\n",
       "       -1.42269605e+02, -2.22099521e+01,  1.69339148e+01, -1.38308402e+01,\n",
       "        8.04728807e+01,  5.79739676e+01, -1.54068918e+02, -2.19738770e+00,\n",
       "        4.95627272e+01,  8.30690922e+01, -3.86489043e+01, -7.79400808e+01,\n",
       "        2.60965212e+01, -2.07200258e+01,  5.55406757e+00,  8.68530020e+01,\n",
       "       -8.84402068e+01,  3.75794377e+00,  1.04119370e+02,  8.77101799e+01,\n",
       "        5.26646828e+01, -4.76501100e+01, -2.84678309e+00,  1.06651886e+02,\n",
       "       -6.23893771e+01,  1.10854264e+01, -1.13385363e+01,  9.93413569e+01,\n",
       "       -7.43311980e+01, -4.37960178e+01,  2.86247635e+01, -8.94184464e+00,\n",
       "       -1.04410559e+02, -1.47971877e+00,  3.40970580e+01,  7.07942393e+01,\n",
       "        4.17455932e+01,  1.32411938e+01, -6.52449792e+01,  9.18774391e+01,\n",
       "        7.76634402e+00, -1.98227252e+02, -1.94925350e+01,  1.75422784e+01,\n",
       "       -1.87013434e+01, -6.83933931e-01, -1.05333499e+02,  3.68611562e+01,\n",
       "        8.96043568e+01,  2.20274794e+01,  4.74204601e+01,  4.07362048e+01,\n",
       "       -4.96737363e+01,  1.19202158e-02, -4.99334125e+01,  3.34465329e+01,\n",
       "        4.80713088e+01, -9.58201714e+01,  1.78752071e+02,  3.76754324e+01,\n",
       "        6.00609686e+01,  4.81865401e+01, -1.25284006e+02, -5.82441261e+01,\n",
       "       -8.76970641e+00,  1.10153558e+01, -6.72828599e+01, -4.31153340e+01,\n",
       "        3.92533612e+01, -8.98232679e+01,  9.19359711e+00, -1.14797370e+02,\n",
       "       -8.76547872e+01, -1.25399295e+01,  2.25105724e+01, -6.18457471e+01,\n",
       "       -1.32248577e+01, -1.18655983e+02, -7.46032161e+00, -8.51951897e-01,\n",
       "        3.60749784e+01,  7.52963758e+01,  1.22976698e+02, -5.30856389e+00,\n",
       "       -5.37834982e+01, -6.27284902e+01, -1.43310525e+02,  6.25446072e+01,\n",
       "        4.29930163e+01,  2.80697050e+01,  4.64337498e+01, -2.53571313e+01,\n",
       "       -1.58506268e+02,  5.70008945e+01,  1.47860602e+01, -4.58796167e+01,\n",
       "        5.22992946e+01, -4.84364053e+01, -5.74723225e+01, -4.92112969e+01,\n",
       "       -2.84699832e+01, -2.71389776e+01,  8.42357003e+01, -9.16897927e+00,\n",
       "       -3.86187495e+01, -1.56090093e+00, -4.60267498e+01, -1.28147471e+02,\n",
       "        1.57541363e+02, -2.86539080e+01,  6.66663743e+01, -3.31515101e+01,\n",
       "       -2.69944690e+01, -7.02715971e+01, -9.59823402e+01, -8.17819036e+00,\n",
       "        1.24286077e+01, -9.69360379e+01,  6.49522393e+01,  2.70317047e+00,\n",
       "       -9.37742270e+01, -4.55787836e+01,  3.63773707e+01, -7.01312222e+01,\n",
       "       -1.09498418e+02,  5.09249940e+01,  3.53130131e+01,  1.08071169e+00,\n",
       "        6.97269605e+01, -1.11939784e+02, -5.35220225e+00, -2.23543658e+01,\n",
       "        1.15143152e+02, -8.34372820e+01, -3.00660379e+01, -5.24664739e+01,\n",
       "       -1.01870350e+02,  7.77772023e+00, -1.38162054e+01,  8.91389622e+01,\n",
       "        8.44436940e+01,  9.04717231e+01,  1.29657978e+02, -1.43994554e+01,\n",
       "       -8.76383725e+01, -1.25519452e+02,  8.96957294e-01,  8.28974168e+01])"
      ]
     },
     "execution_count": 196,
     "metadata": {},
     "output_type": "execute_result"
    }
   ],
   "source": [
    "# make predictions on the testing set\n",
    "y_pred = linreg.predict(X_test)\n",
    "y_pred"
   ]
  },
  {
   "cell_type": "markdown",
   "metadata": {},
   "source": [
    "#### Check RMSE of the model"
   ]
  },
  {
   "cell_type": "code",
   "execution_count": 197,
   "metadata": {},
   "outputs": [
    {
     "data": {
      "text/plain": [
       "4.423523156287739e-14"
      ]
     },
     "execution_count": 197,
     "metadata": {},
     "output_type": "execute_result"
    }
   ],
   "source": [
    "from sklearn import metrics\n",
    "\n",
    "rmse = np.sqrt(metrics.mean_squared_error(y_test, y_pred))\n",
    "rmse"
   ]
  },
  {
   "cell_type": "markdown",
   "metadata": {},
   "source": [
    "#### K-cross validation"
   ]
  },
  {
   "cell_type": "code",
   "execution_count": 198,
   "metadata": {},
   "outputs": [
    {
     "name": "stdout",
     "output_type": "stream",
     "text": [
      "KFold(n_splits=3, random_state=None, shuffle=True)\n",
      "[2.8551797741807625e-14, 4.4808173501722043e-14, 3.151625980957601e-13] \n",
      " Average RMSE: 1.295075231130966e-13\n",
      "[1.0, 1.0, 1.0] \n",
      " Average R2: 1.0\n"
     ]
    }
   ],
   "source": [
    "from sklearn.model_selection import KFold # import k-fold validation\n",
    "\n",
    "kf = KFold(n_splits=3, random_state=None, shuffle=True) # Define the split - into 3 folds \n",
    "\n",
    "kf.get_n_splits(X) # returns the number of splitting iterations in the cross-validator\n",
    "\n",
    "print(kf) \n",
    "\n",
    "# Let's create a new simple linear regressor\n",
    "linreg = LinearRegression()\n",
    "\n",
    "# Conduct 3-fold cross validation\n",
    "\n",
    "rmse = []\n",
    "r2 = []\n",
    "for train_index, test_index in kf.split(X):\n",
    "\n",
    "    X_train, X_test = X[train_index], X[test_index]\n",
    "    y_train, y_test = y[train_index], y[test_index]\n",
    "    \n",
    "    linreg.fit(X_train, y_train)\n",
    "    y_pred = linreg.predict(X_test)\n",
    "    \n",
    "    rmse.append(np.sqrt(metrics.mean_squared_error(y_test, y_pred)))\n",
    "    r2.append(metrics.r2_score(y_test, y_pred))\n",
    "\n",
    "print(rmse, '\\n Average RMSE:', np.mean(rmse))\n",
    "print(r2, '\\n Average R2:', np.mean(r2))"
   ]
  },
  {
   "cell_type": "markdown",
   "metadata": {},
   "source": [
    "#### Learning curve"
   ]
  },
  {
   "cell_type": "code",
   "execution_count": 199,
   "metadata": {},
   "outputs": [
    {
     "data": {
      "image/png": "[encoded data removed]",
      "text/plain": [
       "<Figure size 360x216 with 1 Axes>"
      ]
     },
     "metadata": {
      "needs_background": "light"
     },
     "output_type": "display_data"
    }
   ],
   "source": [
    "from sklearn.model_selection import learning_curve\n",
    "    \n",
    "# evaluate the training and testing and retrieve the information of model performance. \n",
    "\n",
    "train_sizes = np.linspace(0.2, 0.8, 50)\n",
    "\n",
    "train_sizes, train_mse, test_mse = learning_curve(linreg, X, y, \n",
    "                                    train_sizes = train_sizes, \n",
    "                                    scoring='neg_root_mean_squared_error', \n",
    "                                    cv=3, shuffle=True)\n",
    "\n",
    "train_scores = np.sqrt(np.abs(train_mse))\n",
    "test_scores = np.sqrt(np.abs(test_mse))\n",
    "\n",
    "#print(train_scores)\n",
    "#print(test_scores)\n",
    "\n",
    "train_scores_mean = np.mean(train_scores, axis=1)\n",
    "test_scores_mean = np.mean(test_scores, axis=1)\n",
    "\n",
    "# Plot learning curve\n",
    "fig, ax = plt.subplots(1, 1, figsize=(5, 3))\n",
    "    \n",
    "ax.set_title('A learning curve for a simple linear regression')\n",
    "ax.set_xlabel(\"Training examples\")\n",
    "ax.set_ylabel(\"Score (RMSE)\")\n",
    "ax.grid()\n",
    "\n",
    "ax.plot(train_sizes, train_scores_mean, 'o-', color=\"r\", label=\"Training score\")\n",
    "ax.plot(train_sizes, test_scores_mean, 'o-', color=\"g\", label=\"Cross-validation score\")\n",
    "ax.legend(loc=\"best\")\n",
    "\n",
    "plt.show()"
   ]
  },
  {
   "cell_type": "markdown",
   "metadata": {},
   "source": [
    "###  Part 1: Explore insight of the data using simple regression\n",
    "\n",
    "The following Git repository is for the COVID-19 visual dashboard operated by the Johns Hopkins University Center for Systems Science and Engineering:\n",
    "https://github.com/CSSEGISandData/COVID-19\n",
    "\n",
    "Read the information on the dashboard and check the datasets details\n",
    "\n",
    "Datasets are located in a folder: csse_covid_19_data"
   ]
  },
  {
   "cell_type": "markdown",
   "metadata": {},
   "source": [
    "### Tasks\n",
    "\n",
    "1. Select two attributes (columns) you are interested from either US only or all data.\n",
    "\n",
    "   1.1 (optional) If you find any missing data or/and invalid data in the selected attributes you would like to work on, apply tools to handle these data. \n",
    "\n",
    "2. Conduct preliminary exploratory data analysis on the selected data and visualize the data. This may include the following but not limited:\n",
    "\n",
    "    - The five number summary, box plots, histograms, or/and scatter plots. \n",
    "\n",
    "3. Display simple linear regression function with a scatter plot\n",
    "    --> You will see the data does not follow a simple linear function. \n",
    "   \n",
    "4. Create a logistic regression function instead of a simple linear regression. See the web resources below:\n",
    "\n",
    "    from sklearn.linear_model import LogisticRegression\n",
    "    \n",
    "    - This time draw a scatter plot of the data together with the logistic regression function. "
   ]
  },
  {
   "cell_type": "markdown",
   "metadata": {},
   "source": [
    "#### (1) Load data\n",
    "\n",
    "- Examples in the next three cells show how to obtain data from web resources and load the data to DataFrame.\n",
    "\n",
    "- You should modify the code for the datasets and data attributes you are interested. \n",
    "\n",
    "##### Obtain data from the Web"
   ]
  },
  {
   "cell_type": "code",
   "execution_count": 200,
   "metadata": {},
   "outputs": [
    {
     "name": "stdout",
     "output_type": "stream",
     "text": [
      "Downloading time_series_covid19_confirmed_US.csv\n"
     ]
    }
   ],
   "source": [
    "import os\n",
    "datapath = os.path.join(\"csse_covid_19_data\", \"csse_covid_19_data\", \"\")\n",
    "\n",
    "import urllib\n",
    "DOWNLOAD_ROOT = \"https://raw.githubusercontent.com/CSSEGISandData/COVID-19/master/csse_covid_19_data/csse_covid_19_time_series/time_series_covid19_confirmed_US.csv\"\n",
    "os.makedirs(datapath, exist_ok=True)\n",
    "for filename in (\"time_series_covid19_confirmed_US.csv\",):\n",
    "    print(\"Downloading\", filename)\n",
    "    url = DOWNLOAD_ROOT + \"csse_covid_19_data/csse_covid_19_data/\" + filename\n",
    "    urllib.request.urlretrieve(DOWNLOAD_ROOT, datapath + filename)"
   ]
  },
  {
   "cell_type": "code",
   "execution_count": 201,
   "metadata": {},
   "outputs": [],
   "source": [
    "us_confirmed_timeseries = pd.read_csv(datapath + \"time_series_covid19_confirmed_US.csv\")\n",
    "wash_cases = us_confirmed_timeseries.loc[us_confirmed_timeseries[\"Province_State\"] == \"Washington\"]\n",
    "wash_cases = wash_cases.drop(columns=['UID', 'iso2', 'iso3', 'FIPS', 'Province_State', 'Country_Region', 'Lat', 'Long_'\n",
    ", 'code3', 'Combined_Key', 'Admin2'])\n",
    "cases_by_date = wash_cases.sum()"
   ]
  },
  {
   "cell_type": "markdown",
   "metadata": {},
   "source": [
    "##### Load data to DataFrame"
   ]
  },
  {
   "cell_type": "code",
   "execution_count": 202,
   "metadata": {},
   "outputs": [
    {
     "name": "stdout",
     "output_type": "stream",
     "text": [
      "(1000, 5)\n",
      "(1000,)\n"
     ]
    }
   ],
   "source": [
    "df = pd.DataFrame({'date':cases_by_date.index, 'cases':cases_by_date.values})\n",
    "df['day_number'] = df.index\n",
    "\n",
    "print(X.shape)\n",
    "print(y.shape)"
   ]
  },
  {
   "cell_type": "markdown",
   "metadata": {},
   "source": [
    "#### (2) EDA"
   ]
  },
  {
   "cell_type": "code",
   "execution_count": 203,
   "metadata": {},
   "outputs": [
    {
     "data": {
      "text/html": [
       "<div>\n",
       "<style scoped>\n",
       "    .dataframe tbody tr th:only-of-type {\n",
       "        vertical-align: middle;\n",
       "    }\n",
       "\n",
       "    .dataframe tbody tr th {\n",
       "        vertical-align: top;\n",
       "    }\n",
       "\n",
       "    .dataframe thead th {\n",
       "        text-align: right;\n",
       "    }\n",
       "</style>\n",
       "<table border=\"1\" class=\"dataframe\">\n",
       "  <thead>\n",
       "    <tr style=\"text-align: right;\">\n",
       "      <th></th>\n",
       "      <th>date</th>\n",
       "      <th>cases</th>\n",
       "      <th>day_number</th>\n",
       "    </tr>\n",
       "  </thead>\n",
       "  <tbody>\n",
       "    <tr>\n",
       "      <th>0</th>\n",
       "      <td>1/22/20</td>\n",
       "      <td>1</td>\n",
       "      <td>0</td>\n",
       "    </tr>\n",
       "    <tr>\n",
       "      <th>1</th>\n",
       "      <td>1/23/20</td>\n",
       "      <td>1</td>\n",
       "      <td>1</td>\n",
       "    </tr>\n",
       "    <tr>\n",
       "      <th>2</th>\n",
       "      <td>1/24/20</td>\n",
       "      <td>1</td>\n",
       "      <td>2</td>\n",
       "    </tr>\n",
       "    <tr>\n",
       "      <th>3</th>\n",
       "      <td>1/25/20</td>\n",
       "      <td>1</td>\n",
       "      <td>3</td>\n",
       "    </tr>\n",
       "    <tr>\n",
       "      <th>4</th>\n",
       "      <td>1/26/20</td>\n",
       "      <td>1</td>\n",
       "      <td>4</td>\n",
       "    </tr>\n",
       "  </tbody>\n",
       "</table>\n",
       "</div>"
      ],
      "text/plain": [
       "      date  cases  day_number\n",
       "0  1/22/20      1           0\n",
       "1  1/23/20      1           1\n",
       "2  1/24/20      1           2\n",
       "3  1/25/20      1           3\n",
       "4  1/26/20      1           4"
      ]
     },
     "execution_count": 203,
     "metadata": {},
     "output_type": "execute_result"
    }
   ],
   "source": [
    "# Print head of data\n",
    "df.head()"
   ]
  },
  {
   "cell_type": "code",
   "execution_count": 204,
   "metadata": {},
   "outputs": [
    {
     "data": {
      "text/html": [
       "<div>\n",
       "<style scoped>\n",
       "    .dataframe tbody tr th:only-of-type {\n",
       "        vertical-align: middle;\n",
       "    }\n",
       "\n",
       "    .dataframe tbody tr th {\n",
       "        vertical-align: top;\n",
       "    }\n",
       "\n",
       "    .dataframe thead th {\n",
       "        text-align: right;\n",
       "    }\n",
       "</style>\n",
       "<table border=\"1\" class=\"dataframe\">\n",
       "  <thead>\n",
       "    <tr style=\"text-align: right;\">\n",
       "      <th></th>\n",
       "      <th>date</th>\n",
       "      <th>cases</th>\n",
       "      <th>day_number</th>\n",
       "    </tr>\n",
       "  </thead>\n",
       "  <tbody>\n",
       "    <tr>\n",
       "      <th>824</th>\n",
       "      <td>4/25/22</td>\n",
       "      <td>1483332</td>\n",
       "      <td>824</td>\n",
       "    </tr>\n",
       "    <tr>\n",
       "      <th>825</th>\n",
       "      <td>4/26/22</td>\n",
       "      <td>1489316</td>\n",
       "      <td>825</td>\n",
       "    </tr>\n",
       "    <tr>\n",
       "      <th>826</th>\n",
       "      <td>4/27/22</td>\n",
       "      <td>1493194</td>\n",
       "      <td>826</td>\n",
       "    </tr>\n",
       "    <tr>\n",
       "      <th>827</th>\n",
       "      <td>4/28/22</td>\n",
       "      <td>1493194</td>\n",
       "      <td>827</td>\n",
       "    </tr>\n",
       "    <tr>\n",
       "      <th>828</th>\n",
       "      <td>4/29/22</td>\n",
       "      <td>1498116</td>\n",
       "      <td>828</td>\n",
       "    </tr>\n",
       "  </tbody>\n",
       "</table>\n",
       "</div>"
      ],
      "text/plain": [
       "        date    cases  day_number\n",
       "824  4/25/22  1483332         824\n",
       "825  4/26/22  1489316         825\n",
       "826  4/27/22  1493194         826\n",
       "827  4/28/22  1493194         827\n",
       "828  4/29/22  1498116         828"
      ]
     },
     "execution_count": 204,
     "metadata": {},
     "output_type": "execute_result"
    }
   ],
   "source": [
    "# Print tail of data\n",
    "df.tail()"
   ]
  },
  {
   "cell_type": "code",
   "execution_count": 205,
   "metadata": {},
   "outputs": [
    {
     "data": {
      "text/plain": [
       "(829, 3)"
      ]
     },
     "execution_count": 205,
     "metadata": {},
     "output_type": "execute_result"
    }
   ],
   "source": [
    "# Print shape of data (827 rows x 3 columns)\n",
    "df.shape"
   ]
  },
  {
   "cell_type": "code",
   "execution_count": 206,
   "metadata": {},
   "outputs": [
    {
     "data": {
      "text/plain": [
       "date          0\n",
       "cases         0\n",
       "day_number    0\n",
       "dtype: int64"
      ]
     },
     "execution_count": 206,
     "metadata": {},
     "output_type": "execute_result"
    }
   ],
   "source": [
    "# Count number of missing/NA entries\n",
    "df.isna().sum()"
   ]
  },
  {
   "cell_type": "code",
   "execution_count": 207,
   "metadata": {},
   "outputs": [
    {
     "name": "stdout",
     "output_type": "stream",
     "text": [
      "Mean: 441301.66224366706\n",
      "Median: 347884.0\n"
     ]
    }
   ],
   "source": [
    "# Print mean and median\n",
    "print(\"Mean:\", end=\" \")\n",
    "print(df['cases'].mean())\n",
    "print(\"Median:\", end=\" \")\n",
    "print(df['cases'].median())"
   ]
  },
  {
   "cell_type": "code",
   "execution_count": 208,
   "metadata": {},
   "outputs": [
    {
     "data": {
      "text/plain": [
       "<AxesSubplot:>"
      ]
     },
     "execution_count": 208,
     "metadata": {},
     "output_type": "execute_result"
    },
    {
     "data": {
      "image/png": "[encoded data removed]",
      "text/plain": [
       "<Figure size 432x288 with 1 Axes>"
      ]
     },
     "metadata": {
      "needs_background": "light"
     },
     "output_type": "display_data"
    }
   ],
   "source": [
    "# Boxplot \n",
    "df.boxplot()"
   ]
  },
  {
   "cell_type": "code",
   "execution_count": 209,
   "metadata": {},
   "outputs": [
    {
     "data": {
      "image/png": "[encoded data removed]",
      "text/plain": [
       "<Figure size 432x288 with 1 Axes>"
      ]
     },
     "metadata": {
      "needs_background": "light"
     },
     "output_type": "display_data"
    }
   ],
   "source": [
    "# Plot it in the cartesian plane\n",
    "mpl.rc('axes', labelsize=14)\n",
    "mpl.rc('xtick', labelsize=12)\n",
    "mpl.rc('ytick', labelsize=12)\n",
    "\n",
    "\n",
    "df[['day_number', 'cases']].plot(kind='scatter', x='day_number', y='cases')\n",
    "\n",
    "plt.xlabel('Date')\n",
    "plt.ylabel('Case Count')\n",
    "# plt.xticks(np.arange(0, len(df), step=(len(df) / 12)), rotation=45)\n",
    "\n",
    "plt.show()"
   ]
  },
  {
   "cell_type": "markdown",
   "metadata": {},
   "source": [
    "#### (3) A linear regression model\n",
    "\n",
    "- Train a linear regression model\n",
    "- Visualize the model with scatter plot\n",
    "- Conduct k=10 cross validation and show the result\n",
    "- Display learning curve based on training data"
   ]
  },
  {
   "cell_type": "code",
   "execution_count": 210,
   "metadata": {},
   "outputs": [],
   "source": [
    "from sklearn.model_selection import train_test_split\n",
    "\n",
    "lr_model = LinearRegression()\n",
    "X = np.c_[df['day_number']]\n",
    "y = np.c_[df['cases']]\n",
    "\n",
    "#  split data \n",
    "X_train, X_test, y_train, y_test = train_test_split(X, y, random_state=1)"
   ]
  },
  {
   "cell_type": "code",
   "execution_count": 211,
   "metadata": {},
   "outputs": [
    {
     "name": "stdout",
     "output_type": "stream",
     "text": [
      "Accuracy on training set: 0.8539937875843001\n",
      "Accuracy on test set: 0.8359068451621547\n",
      "Accuracy on training set: 0.8515490159949808\n",
      "Accuracy on test set: 0.8582702990844551\n",
      "Accuracy on training set: 0.8508797873149738\n",
      "Accuracy on test set: 0.862638166075942\n",
      "Accuracy on training set: 0.8521630643745035\n",
      "Accuracy on test set: 0.8495235835021999\n",
      "Accuracy on training set: 0.8519620723068659\n",
      "Accuracy on test set: 0.8537448478211408\n",
      "Accuracy on training set: 0.8527379923380229\n",
      "Accuracy on test set: 0.8220776817273169\n",
      "Accuracy on training set: 0.8501025393320705\n",
      "Accuracy on test set: 0.8731438532999238\n",
      "Accuracy on training set: 0.85430172620427\n",
      "Accuracy on test set: 0.8310272628456966\n",
      "Accuracy on training set: 0.8527727628658817\n",
      "Accuracy on test set: 0.84848463826405\n",
      "Accuracy on training set: 0.8533123958294324\n",
      "Accuracy on test set: 0.8374915170102419\n",
      "Coefficients: [[1730.37801501]]\n",
      "Intercepts: [-271511.31694909]\n",
      "[172739.53553655872, 177172.3976209515, 165026.35859097543, 199465.82322871123, 182670.13769340125, 148052.83365537415, 155072.21305147355, 169658.7527957451, 182594.93640011793, 151595.04331950305]\n",
      "[0.8359068451621547, 0.8582702990844551, 0.862638166075942, 0.8495235835021999, 0.8537448478211408, 0.8220776817273169, 0.8731438532999238, 0.8310272628456966, 0.84848463826405, 0.8374915170102419]\n"
     ]
    }
   ],
   "source": [
    "# K-cross validation\n",
    "from sklearn.model_selection import KFold\n",
    "kf = KFold(n_splits=10, random_state=None, shuffle=True)\n",
    "\n",
    "rmse = []\n",
    "r2 = []\n",
    "\n",
    "for train_index, test_index in kf.split(X_train):\n",
    "    kx_train, kx_test = X_train[train_index], X_train[test_index]\n",
    "    ky_train, ky_test = y_train[train_index], y_train[test_index]\n",
    "\n",
    "    lr_model.fit(kx_train, ky_train)\n",
    "    y_pred = lr_model.predict(kx_test)\n",
    "\n",
    "    rmse.append(np.sqrt(metrics.mean_squared_error(ky_test, y_pred)))\n",
    "    r2.append(metrics.r2_score(ky_test, y_pred))\n",
    "\n",
    "    print(\"Accuracy on training set: \" + str(lr_model.score(kx_train, ky_train)))\n",
    "    print(\"Accuracy on test set: \" + str(lr_model.score(kx_test, ky_test)))\n",
    "\n",
    "# Model Params\n",
    "print(\"Coefficients: \", end=\"\")\n",
    "print(lr_model.coef_)\n",
    "print(\"Intercepts: \", end=\"\")\n",
    "print(lr_model.intercept_)\n",
    "\n",
    "print(rmse)\n",
    "print(r2)"
   ]
  },
  {
   "cell_type": "code",
   "execution_count": 212,
   "metadata": {},
   "outputs": [
    {
     "data": {
      "image/png": "[encoded data removed]",
      "text/plain": [
       "<Figure size 432x288 with 1 Axes>"
      ]
     },
     "metadata": {
      "needs_background": "light"
     },
     "output_type": "display_data"
    }
   ],
   "source": [
    "# Visualize model\n",
    "plt.scatter(X_train, y_train, c='red', label='observed')\n",
    "plt.xlabel('Day')\n",
    "plt.ylabel('Case count')\n",
    "plt.title('Model Visualization')\n",
    "plt.plot(X_train, lr_model.predict(X_train), c='green', linewidth=2)\n",
    "plt.show()"
   ]
  },
  {
   "cell_type": "code",
   "execution_count": 213,
   "metadata": {},
   "outputs": [
    {
     "name": "stdout",
     "output_type": "stream",
     "text": [
      "[[397.39356309 415.01807571 397.04003683 396.84983554 427.56852425\n",
      "  411.05404151 410.48460195 403.32264307 414.51702064 412.36459938]\n",
      " [405.91963998 419.99532543 408.47569695 405.36196175 428.32123082\n",
      "  406.32688768 410.30033915 410.69974827 418.58601614 407.71194462]\n",
      " [405.54017853 422.91744677 412.09115298 415.30513805 420.12008727\n",
      "  413.4545328  405.94511953 417.80977817 413.28262193 408.569226  ]\n",
      " [413.62501091 415.71198527 408.40685472 415.1900867  419.34380448\n",
      "  409.64214849 408.70273561 415.79314802 411.25953606 408.30268196]\n",
      " [412.16928249 415.89135279 407.93051864 412.69740133 414.24233208\n",
      "  410.35884333 407.60683977 414.12861732 407.51371599 413.03257163]]\n",
      "[[423.63472722 418.22667407 432.85145087 392.03481064 407.41617412\n",
      "  388.30754997 434.68476458 395.261555   437.73312687 415.787852  ]\n",
      " [420.28118252 414.60640667 431.38455541 391.46725369 407.86708401\n",
      "  387.96392503 432.20266658 395.59300197 432.78841896 404.6704372 ]\n",
      " [420.42109104 415.48159898 431.19561848 391.95030508 406.54113726\n",
      "  391.91399006 433.99114205 397.48128593 433.3099904  404.70894359]\n",
      " [420.02097292 414.32814897 431.31740844 392.04719644 406.79440837\n",
      "  390.6534887  431.90041078 396.51786834 433.44473836 402.09607893]\n",
      " [419.95345419 414.80327872 431.62427454 391.80306089 406.75483859\n",
      "  389.79095532 433.65232529 396.64111957 435.58580704 402.22515592]]\n"
     ]
    },
    {
     "data": {
      "image/png": "[encoded data removed]",
      "text/plain": [
       "<Figure size 360x216 with 1 Axes>"
      ]
     },
     "metadata": {
      "needs_background": "light"
     },
     "output_type": "display_data"
    }
   ],
   "source": [
    "# Learning Curve\n",
    "train_sizes = np.linspace(0.2, 0.8, 5)\n",
    "\n",
    "\n",
    "train_sizes, train_mse, test_mse = learning_curve(lr_model, X_train, y_train, \n",
    "                                    train_sizes = train_sizes, \n",
    "                                    scoring='neg_root_mean_squared_error', \n",
    "                                    cv=10, shuffle=True)\n",
    "\n",
    "train_scores = np.sqrt(np.abs(train_mse))\n",
    "test_scores = np.sqrt(np.abs(test_mse))\n",
    "\n",
    "print(train_scores)\n",
    "print(test_scores)\n",
    "\n",
    "train_scores_mean = np.mean(train_scores, axis=1)\n",
    "test_scores_mean = np.mean(test_scores, axis=1)\n",
    "\n",
    "# Plot learning curve\n",
    "fig, ax = plt.subplots(1, 1, figsize=(5, 3))\n",
    "    \n",
    "ax.set_title('A learning curve for a simple linear regression')\n",
    "ax.set_xlabel(\"Training examples\")\n",
    "ax.set_ylabel(\"Score (RMSE)\")\n",
    "ax.grid()\n",
    "\n",
    "ax.plot(train_sizes, train_scores_mean, 'o-', color=\"r\", label=\"Training score\")\n",
    "ax.plot(train_sizes, test_scores_mean, 'o-', color=\"g\", label=\"Cross-validation score\")\n",
    "ax.legend(loc=\"best\")\n",
    "\n",
    "plt.show()"
   ]
  },
  {
   "cell_type": "code",
   "execution_count": 214,
   "metadata": {},
   "outputs": [
    {
     "name": "stdout",
     "output_type": "stream",
     "text": [
      "Test data score: 0.8525336192862812\n",
      "RMSE: 170468.77771736516\n"
     ]
    }
   ],
   "source": [
    "# Performance on test data\n",
    "print(\"Test data score: \" + str(lr_model.score(X_test, y_test)))\n",
    "\n",
    "y_pred = lr_model.predict(X_test)\n",
    "print(\"RMSE: \" + str(np.sqrt(metrics.mean_squared_error(y_test, y_pred))))"
   ]
  },
  {
   "cell_type": "markdown",
   "metadata": {},
   "source": [
    "#### (4) A logistic regression model\n",
    "\n",
    "- Train a logistic regression model\n",
    "- Visualize the model with scatter plot\n",
    "- Conduct k=10 cross validation and show the result\n",
    "- Display learning curve based on training data size"
   ]
  },
  {
   "cell_type": "code",
   "execution_count": 215,
   "metadata": {},
   "outputs": [],
   "source": [
    "from sklearn.linear_model import LogisticRegression\n",
    "\n",
    "log_reg_model = LogisticRegression(solver='lbfgs', random_state=0)"
   ]
  },
  {
   "cell_type": "code",
   "execution_count": 216,
   "metadata": {},
   "outputs": [
    {
     "name": "stderr",
     "output_type": "stream",
     "text": [
      "/Users/rileycullen/opt/anaconda3/lib/python3.9/site-packages/sklearn/linear_model/_logistic.py:763: ConvergenceWarning: lbfgs failed to converge (status=1):\n",
      "STOP: TOTAL NO. of ITERATIONS REACHED LIMIT.\n",
      "\n",
      "Increase the number of iterations (max_iter) or scale the data as shown in:\n",
      "    https://scikit-learn.org/stable/modules/preprocessing.html\n",
      "Please also refer to the documentation for alternative solver options:\n",
      "    https://scikit-learn.org/stable/modules/linear_model.html#logistic-regression\n",
      "  n_iter_i = _check_optimize_result(\n"
     ]
    },
    {
     "name": "stdout",
     "output_type": "stream",
     "text": [
      "Accuracy on training set: 0.05555555555555555\n",
      "Accuracy on test set: 0.047619047619047616\n"
     ]
    },
    {
     "name": "stderr",
     "output_type": "stream",
     "text": [
      "/Users/rileycullen/opt/anaconda3/lib/python3.9/site-packages/sklearn/linear_model/_logistic.py:763: ConvergenceWarning: lbfgs failed to converge (status=1):\n",
      "STOP: TOTAL NO. of ITERATIONS REACHED LIMIT.\n",
      "\n",
      "Increase the number of iterations (max_iter) or scale the data as shown in:\n",
      "    https://scikit-learn.org/stable/modules/preprocessing.html\n",
      "Please also refer to the documentation for alternative solver options:\n",
      "    https://scikit-learn.org/stable/modules/linear_model.html#logistic-regression\n",
      "  n_iter_i = _check_optimize_result(\n"
     ]
    },
    {
     "name": "stdout",
     "output_type": "stream",
     "text": [
      "Accuracy on training set: 0.059033989266547404\n",
      "Accuracy on test set: 0.016129032258064516\n"
     ]
    },
    {
     "name": "stderr",
     "output_type": "stream",
     "text": [
      "/Users/rileycullen/opt/anaconda3/lib/python3.9/site-packages/sklearn/linear_model/_logistic.py:763: ConvergenceWarning: lbfgs failed to converge (status=1):\n",
      "STOP: TOTAL NO. of ITERATIONS REACHED LIMIT.\n",
      "\n",
      "Increase the number of iterations (max_iter) or scale the data as shown in:\n",
      "    https://scikit-learn.org/stable/modules/preprocessing.html\n",
      "Please also refer to the documentation for alternative solver options:\n",
      "    https://scikit-learn.org/stable/modules/linear_model.html#logistic-regression\n",
      "  n_iter_i = _check_optimize_result(\n"
     ]
    },
    {
     "name": "stdout",
     "output_type": "stream",
     "text": [
      "Accuracy on training set: 0.05008944543828265\n",
      "Accuracy on test set: 0.06451612903225806\n"
     ]
    },
    {
     "name": "stderr",
     "output_type": "stream",
     "text": [
      "/Users/rileycullen/opt/anaconda3/lib/python3.9/site-packages/sklearn/linear_model/_logistic.py:763: ConvergenceWarning: lbfgs failed to converge (status=1):\n",
      "STOP: TOTAL NO. of ITERATIONS REACHED LIMIT.\n",
      "\n",
      "Increase the number of iterations (max_iter) or scale the data as shown in:\n",
      "    https://scikit-learn.org/stable/modules/preprocessing.html\n",
      "Please also refer to the documentation for alternative solver options:\n",
      "    https://scikit-learn.org/stable/modules/linear_model.html#logistic-regression\n",
      "  n_iter_i = _check_optimize_result(\n"
     ]
    },
    {
     "name": "stdout",
     "output_type": "stream",
     "text": [
      "Accuracy on training set: 0.05008944543828265\n",
      "Accuracy on test set: 0.0967741935483871\n"
     ]
    },
    {
     "name": "stderr",
     "output_type": "stream",
     "text": [
      "/Users/rileycullen/opt/anaconda3/lib/python3.9/site-packages/sklearn/linear_model/_logistic.py:763: ConvergenceWarning: lbfgs failed to converge (status=1):\n",
      "STOP: TOTAL NO. of ITERATIONS REACHED LIMIT.\n",
      "\n",
      "Increase the number of iterations (max_iter) or scale the data as shown in:\n",
      "    https://scikit-learn.org/stable/modules/preprocessing.html\n",
      "Please also refer to the documentation for alternative solver options:\n",
      "    https://scikit-learn.org/stable/modules/linear_model.html#logistic-regression\n",
      "  n_iter_i = _check_optimize_result(\n"
     ]
    },
    {
     "name": "stdout",
     "output_type": "stream",
     "text": [
      "Accuracy on training set: 0.055456171735241505\n",
      "Accuracy on test set: 0.04838709677419355\n"
     ]
    },
    {
     "name": "stderr",
     "output_type": "stream",
     "text": [
      "/Users/rileycullen/opt/anaconda3/lib/python3.9/site-packages/sklearn/linear_model/_logistic.py:763: ConvergenceWarning: lbfgs failed to converge (status=1):\n",
      "STOP: TOTAL NO. of ITERATIONS REACHED LIMIT.\n",
      "\n",
      "Increase the number of iterations (max_iter) or scale the data as shown in:\n",
      "    https://scikit-learn.org/stable/modules/preprocessing.html\n",
      "Please also refer to the documentation for alternative solver options:\n",
      "    https://scikit-learn.org/stable/modules/linear_model.html#logistic-regression\n",
      "  n_iter_i = _check_optimize_result(\n"
     ]
    },
    {
     "name": "stdout",
     "output_type": "stream",
     "text": [
      "Accuracy on training set: 0.055456171735241505\n",
      "Accuracy on test set: 0.016129032258064516\n"
     ]
    },
    {
     "name": "stderr",
     "output_type": "stream",
     "text": [
      "/Users/rileycullen/opt/anaconda3/lib/python3.9/site-packages/sklearn/linear_model/_logistic.py:763: ConvergenceWarning: lbfgs failed to converge (status=1):\n",
      "STOP: TOTAL NO. of ITERATIONS REACHED LIMIT.\n",
      "\n",
      "Increase the number of iterations (max_iter) or scale the data as shown in:\n",
      "    https://scikit-learn.org/stable/modules/preprocessing.html\n",
      "Please also refer to the documentation for alternative solver options:\n",
      "    https://scikit-learn.org/stable/modules/linear_model.html#logistic-regression\n",
      "  n_iter_i = _check_optimize_result(\n"
     ]
    },
    {
     "name": "stdout",
     "output_type": "stream",
     "text": [
      "Accuracy on training set: 0.05366726296958855\n",
      "Accuracy on test set: 0.06451612903225806\n"
     ]
    },
    {
     "name": "stderr",
     "output_type": "stream",
     "text": [
      "/Users/rileycullen/opt/anaconda3/lib/python3.9/site-packages/sklearn/linear_model/_logistic.py:763: ConvergenceWarning: lbfgs failed to converge (status=1):\n",
      "STOP: TOTAL NO. of ITERATIONS REACHED LIMIT.\n",
      "\n",
      "Increase the number of iterations (max_iter) or scale the data as shown in:\n",
      "    https://scikit-learn.org/stable/modules/preprocessing.html\n",
      "Please also refer to the documentation for alternative solver options:\n",
      "    https://scikit-learn.org/stable/modules/linear_model.html#logistic-regression\n",
      "  n_iter_i = _check_optimize_result(\n"
     ]
    },
    {
     "name": "stdout",
     "output_type": "stream",
     "text": [
      "Accuracy on training set: 0.0518783542039356\n",
      "Accuracy on test set: 0.04838709677419355\n"
     ]
    },
    {
     "name": "stderr",
     "output_type": "stream",
     "text": [
      "/Users/rileycullen/opt/anaconda3/lib/python3.9/site-packages/sklearn/linear_model/_logistic.py:763: ConvergenceWarning: lbfgs failed to converge (status=1):\n",
      "STOP: TOTAL NO. of ITERATIONS REACHED LIMIT.\n",
      "\n",
      "Increase the number of iterations (max_iter) or scale the data as shown in:\n",
      "    https://scikit-learn.org/stable/modules/preprocessing.html\n",
      "Please also refer to the documentation for alternative solver options:\n",
      "    https://scikit-learn.org/stable/modules/linear_model.html#logistic-regression\n",
      "  n_iter_i = _check_optimize_result(\n"
     ]
    },
    {
     "name": "stdout",
     "output_type": "stream",
     "text": [
      "Accuracy on training set: 0.0518783542039356\n",
      "Accuracy on test set: 0.08064516129032258\n",
      "Accuracy on training set: 0.055456171735241505\n",
      "Accuracy on test set: 0.016129032258064516\n",
      "[485217.4073356272, 385740.7754561136, 485631.3486860471, 357876.27812240075, 442600.6141143357, 631458.9841995843, 424470.98408852477, 654753.840923947, 333796.9418897779, 397591.7580669374]\n",
      "[-0.08985859320513834, 0.37263375249933817, -0.3791384902034738, 0.11490136976773824, 0.0866743601431672, -1.3843379961470936, 0.13494341696786216, -0.857602836733812, 0.29187718800932416, 0.12816495271917372]\n"
     ]
    },
    {
     "name": "stderr",
     "output_type": "stream",
     "text": [
      "/Users/rileycullen/opt/anaconda3/lib/python3.9/site-packages/sklearn/linear_model/_logistic.py:763: ConvergenceWarning: lbfgs failed to converge (status=1):\n",
      "STOP: TOTAL NO. of ITERATIONS REACHED LIMIT.\n",
      "\n",
      "Increase the number of iterations (max_iter) or scale the data as shown in:\n",
      "    https://scikit-learn.org/stable/modules/preprocessing.html\n",
      "Please also refer to the documentation for alternative solver options:\n",
      "    https://scikit-learn.org/stable/modules/linear_model.html#logistic-regression\n",
      "  n_iter_i = _check_optimize_result(\n"
     ]
    }
   ],
   "source": [
    "# K-fold cross validation \n",
    "rmse = []\n",
    "r2 = []\n",
    "\n",
    "kf = KFold(n_splits=10, random_state=None, shuffle=True)\n",
    "\n",
    "for train_index, test_index in kf.split(X_train):\n",
    "    kx_train, kx_test = X_train[train_index], X_train[test_index]\n",
    "    ky_train, ky_test = y_train[train_index], y_train[test_index]\n",
    "\n",
    "    log_reg_model.fit(kx_train, ky_train.ravel())\n",
    "    y_pred = log_reg_model.predict(kx_test)\n",
    "\n",
    "    rmse.append(np.sqrt(metrics.mean_squared_error(ky_test, y_pred)))\n",
    "    r2.append(metrics.r2_score(ky_test, y_pred))\n",
    "\n",
    "    print(\"Accuracy on training set: \" + str(log_reg_model.score(kx_train, ky_train)))\n",
    "    print(\"Accuracy on test set: \" + str(log_reg_model.score(kx_test, ky_test)))\n",
    "\n",
    "# print(\"Coefficients: \", end=\"\")\n",
    "# print(log_reg_model.coef_)\n",
    "# print(\"Intercepts: \", end=\"\")\n",
    "# print(log_reg_model.intercept_)\n",
    "print(rmse)\n",
    "print(r2)"
   ]
  },
  {
   "cell_type": "code",
   "execution_count": 217,
   "metadata": {},
   "outputs": [
    {
     "data": {
      "image/png": "[encoded data removed]",
      "text/plain": [
       "<Figure size 432x288 with 1 Axes>"
      ]
     },
     "metadata": {
      "needs_background": "light"
     },
     "output_type": "display_data"
    }
   ],
   "source": [
    "# Visualize model\n",
    "plt.scatter(X_train, y_train, c='red', label='observed')\n",
    "plt.xlabel('Day')\n",
    "plt.ylabel('Case count')\n",
    "plt.title('Model Visualization')\n",
    "plt.plot(X_train, log_reg_model.predict(X_train), c='green', linewidth=0.5)\n",
    "plt.show()"
   ]
  },
  {
   "cell_type": "code",
   "execution_count": 218,
   "metadata": {},
   "outputs": [
    {
     "name": "stderr",
     "output_type": "stream",
     "text": [
      "/Users/rileycullen/opt/anaconda3/lib/python3.9/site-packages/sklearn/model_selection/_split.py:666: UserWarning: The least populated class in y has only 1 members, which is less than n_splits=3.\n",
      "  warnings.warn((\"The least populated class in y has only %d\"\n",
      "/Users/rileycullen/opt/anaconda3/lib/python3.9/site-packages/sklearn/linear_model/_logistic.py:763: ConvergenceWarning: lbfgs failed to converge (status=1):\n",
      "STOP: TOTAL NO. of ITERATIONS REACHED LIMIT.\n",
      "\n",
      "Increase the number of iterations (max_iter) or scale the data as shown in:\n",
      "    https://scikit-learn.org/stable/modules/preprocessing.html\n",
      "Please also refer to the documentation for alternative solver options:\n",
      "    https://scikit-learn.org/stable/modules/linear_model.html#logistic-regression\n",
      "  n_iter_i = _check_optimize_result(\n",
      "/Users/rileycullen/opt/anaconda3/lib/python3.9/site-packages/sklearn/linear_model/_logistic.py:763: ConvergenceWarning: lbfgs failed to converge (status=1):\n",
      "STOP: TOTAL NO. of ITERATIONS REACHED LIMIT.\n",
      "\n",
      "Increase the number of iterations (max_iter) or scale the data as shown in:\n",
      "    https://scikit-learn.org/stable/modules/preprocessing.html\n",
      "Please also refer to the documentation for alternative solver options:\n",
      "    https://scikit-learn.org/stable/modules/linear_model.html#logistic-regression\n",
      "  n_iter_i = _check_optimize_result(\n",
      "/Users/rileycullen/opt/anaconda3/lib/python3.9/site-packages/sklearn/linear_model/_logistic.py:763: ConvergenceWarning: lbfgs failed to converge (status=1):\n",
      "STOP: TOTAL NO. of ITERATIONS REACHED LIMIT.\n",
      "\n",
      "Increase the number of iterations (max_iter) or scale the data as shown in:\n",
      "    https://scikit-learn.org/stable/modules/preprocessing.html\n",
      "Please also refer to the documentation for alternative solver options:\n",
      "    https://scikit-learn.org/stable/modules/linear_model.html#logistic-regression\n",
      "  n_iter_i = _check_optimize_result(\n",
      "/Users/rileycullen/opt/anaconda3/lib/python3.9/site-packages/sklearn/linear_model/_logistic.py:763: ConvergenceWarning: lbfgs failed to converge (status=1):\n",
      "STOP: TOTAL NO. of ITERATIONS REACHED LIMIT.\n",
      "\n",
      "Increase the number of iterations (max_iter) or scale the data as shown in:\n",
      "    https://scikit-learn.org/stable/modules/preprocessing.html\n",
      "Please also refer to the documentation for alternative solver options:\n",
      "    https://scikit-learn.org/stable/modules/linear_model.html#logistic-regression\n",
      "  n_iter_i = _check_optimize_result(\n",
      "/Users/rileycullen/opt/anaconda3/lib/python3.9/site-packages/sklearn/linear_model/_logistic.py:763: ConvergenceWarning: lbfgs failed to converge (status=1):\n",
      "STOP: TOTAL NO. of ITERATIONS REACHED LIMIT.\n",
      "\n",
      "Increase the number of iterations (max_iter) or scale the data as shown in:\n",
      "    https://scikit-learn.org/stable/modules/preprocessing.html\n",
      "Please also refer to the documentation for alternative solver options:\n",
      "    https://scikit-learn.org/stable/modules/linear_model.html#logistic-regression\n",
      "  n_iter_i = _check_optimize_result(\n",
      "/Users/rileycullen/opt/anaconda3/lib/python3.9/site-packages/sklearn/linear_model/_logistic.py:763: ConvergenceWarning: lbfgs failed to converge (status=1):\n",
      "STOP: TOTAL NO. of ITERATIONS REACHED LIMIT.\n",
      "\n",
      "Increase the number of iterations (max_iter) or scale the data as shown in:\n",
      "    https://scikit-learn.org/stable/modules/preprocessing.html\n",
      "Please also refer to the documentation for alternative solver options:\n",
      "    https://scikit-learn.org/stable/modules/linear_model.html#logistic-regression\n",
      "  n_iter_i = _check_optimize_result(\n",
      "/Users/rileycullen/opt/anaconda3/lib/python3.9/site-packages/sklearn/linear_model/_logistic.py:763: ConvergenceWarning: lbfgs failed to converge (status=1):\n",
      "STOP: TOTAL NO. of ITERATIONS REACHED LIMIT.\n",
      "\n",
      "Increase the number of iterations (max_iter) or scale the data as shown in:\n",
      "    https://scikit-learn.org/stable/modules/preprocessing.html\n",
      "Please also refer to the documentation for alternative solver options:\n",
      "    https://scikit-learn.org/stable/modules/linear_model.html#logistic-regression\n",
      "  n_iter_i = _check_optimize_result(\n",
      "/Users/rileycullen/opt/anaconda3/lib/python3.9/site-packages/sklearn/linear_model/_logistic.py:763: ConvergenceWarning: lbfgs failed to converge (status=1):\n",
      "STOP: TOTAL NO. of ITERATIONS REACHED LIMIT.\n",
      "\n",
      "Increase the number of iterations (max_iter) or scale the data as shown in:\n",
      "    https://scikit-learn.org/stable/modules/preprocessing.html\n",
      "Please also refer to the documentation for alternative solver options:\n",
      "    https://scikit-learn.org/stable/modules/linear_model.html#logistic-regression\n",
      "  n_iter_i = _check_optimize_result(\n",
      "/Users/rileycullen/opt/anaconda3/lib/python3.9/site-packages/sklearn/linear_model/_logistic.py:763: ConvergenceWarning: lbfgs failed to converge (status=1):\n",
      "STOP: TOTAL NO. of ITERATIONS REACHED LIMIT.\n",
      "\n",
      "Increase the number of iterations (max_iter) or scale the data as shown in:\n",
      "    https://scikit-learn.org/stable/modules/preprocessing.html\n",
      "Please also refer to the documentation for alternative solver options:\n",
      "    https://scikit-learn.org/stable/modules/linear_model.html#logistic-regression\n",
      "  n_iter_i = _check_optimize_result(\n",
      "/Users/rileycullen/opt/anaconda3/lib/python3.9/site-packages/sklearn/linear_model/_logistic.py:763: ConvergenceWarning: lbfgs failed to converge (status=1):\n",
      "STOP: TOTAL NO. of ITERATIONS REACHED LIMIT.\n",
      "\n",
      "Increase the number of iterations (max_iter) or scale the data as shown in:\n",
      "    https://scikit-learn.org/stable/modules/preprocessing.html\n",
      "Please also refer to the documentation for alternative solver options:\n",
      "    https://scikit-learn.org/stable/modules/linear_model.html#logistic-regression\n",
      "  n_iter_i = _check_optimize_result(\n",
      "/Users/rileycullen/opt/anaconda3/lib/python3.9/site-packages/sklearn/linear_model/_logistic.py:763: ConvergenceWarning: lbfgs failed to converge (status=1):\n",
      "STOP: TOTAL NO. of ITERATIONS REACHED LIMIT.\n",
      "\n",
      "Increase the number of iterations (max_iter) or scale the data as shown in:\n",
      "    https://scikit-learn.org/stable/modules/preprocessing.html\n",
      "Please also refer to the documentation for alternative solver options:\n",
      "    https://scikit-learn.org/stable/modules/linear_model.html#logistic-regression\n",
      "  n_iter_i = _check_optimize_result(\n",
      "/Users/rileycullen/opt/anaconda3/lib/python3.9/site-packages/sklearn/linear_model/_logistic.py:763: ConvergenceWarning: lbfgs failed to converge (status=1):\n",
      "STOP: TOTAL NO. of ITERATIONS REACHED LIMIT.\n",
      "\n",
      "Increase the number of iterations (max_iter) or scale the data as shown in:\n",
      "    https://scikit-learn.org/stable/modules/preprocessing.html\n",
      "Please also refer to the documentation for alternative solver options:\n",
      "    https://scikit-learn.org/stable/modules/linear_model.html#logistic-regression\n",
      "  n_iter_i = _check_optimize_result(\n",
      "/Users/rileycullen/opt/anaconda3/lib/python3.9/site-packages/sklearn/linear_model/_logistic.py:763: ConvergenceWarning: lbfgs failed to converge (status=1):\n",
      "STOP: TOTAL NO. of ITERATIONS REACHED LIMIT.\n",
      "\n",
      "Increase the number of iterations (max_iter) or scale the data as shown in:\n",
      "    https://scikit-learn.org/stable/modules/preprocessing.html\n",
      "Please also refer to the documentation for alternative solver options:\n",
      "    https://scikit-learn.org/stable/modules/linear_model.html#logistic-regression\n",
      "  n_iter_i = _check_optimize_result(\n",
      "/Users/rileycullen/opt/anaconda3/lib/python3.9/site-packages/sklearn/linear_model/_logistic.py:763: ConvergenceWarning: lbfgs failed to converge (status=1):\n",
      "STOP: TOTAL NO. of ITERATIONS REACHED LIMIT.\n",
      "\n",
      "Increase the number of iterations (max_iter) or scale the data as shown in:\n",
      "    https://scikit-learn.org/stable/modules/preprocessing.html\n",
      "Please also refer to the documentation for alternative solver options:\n",
      "    https://scikit-learn.org/stable/modules/linear_model.html#logistic-regression\n",
      "  n_iter_i = _check_optimize_result(\n"
     ]
    },
    {
     "name": "stdout",
     "output_type": "stream",
     "text": [
      "[[0.36625994 0.36625994 0.60485838]\n",
      " [0.30046261 0.36324158 0.2763854 ]\n",
      " [0.25060314 0.28657565 0.27801922]\n",
      " [0.25139019 0.26576676 0.25139019]\n",
      " [0.25780857 0.24581082 0.26360274]]\n",
      "[[0.20851441 0.23052136 0.23052136]\n",
      " [0.21979349 0.25060314 0.23052136]\n",
      " [0.21979349 0.23052136 0.24077171]\n",
      " [0.21979349 0.23052136 0.24077171]\n",
      " [0.21979349 0.23052136 0.23052136]]\n"
     ]
    },
    {
     "name": "stderr",
     "output_type": "stream",
     "text": [
      "/Users/rileycullen/opt/anaconda3/lib/python3.9/site-packages/sklearn/linear_model/_logistic.py:763: ConvergenceWarning: lbfgs failed to converge (status=1):\n",
      "STOP: TOTAL NO. of ITERATIONS REACHED LIMIT.\n",
      "\n",
      "Increase the number of iterations (max_iter) or scale the data as shown in:\n",
      "    https://scikit-learn.org/stable/modules/preprocessing.html\n",
      "Please also refer to the documentation for alternative solver options:\n",
      "    https://scikit-learn.org/stable/modules/linear_model.html#logistic-regression\n",
      "  n_iter_i = _check_optimize_result(\n"
     ]
    },
    {
     "data": {
      "image/png": "[encoded data removed]",
      "text/plain": [
       "<Figure size 360x216 with 1 Axes>"
      ]
     },
     "metadata": {
      "needs_background": "light"
     },
     "output_type": "display_data"
    }
   ],
   "source": [
    "# Learning Curve\n",
    "train_sizes = np.linspace(0.2, 0.8, 5)\n",
    "\n",
    "\n",
    "train_sizes, train_mse, test_mse = learning_curve(log_reg_model, X_train, y_train.ravel(), \n",
    "                                    train_sizes = train_sizes,\n",
    "                                    scoring='accuracy', \n",
    "                                    cv=3, shuffle=True)\n",
    "\n",
    "train_scores = np.sqrt(np.abs(train_mse))\n",
    "test_scores = np.sqrt(np.abs(test_mse))\n",
    "\n",
    "print(train_scores)\n",
    "print(test_scores)\n",
    "\n",
    "train_scores_mean = np.mean(train_scores, axis=1)\n",
    "test_scores_mean = np.mean(test_scores, axis=1)\n",
    "\n",
    "# Plot learning curve\n",
    "fig, ax = plt.subplots(1, 1, figsize=(5, 3))\n",
    "    \n",
    "ax.set_title('A learning curve for a simple logistic regression')\n",
    "ax.set_xlabel(\"Training examples\")\n",
    "ax.set_ylabel(\"Score\")\n",
    "ax.grid()\n",
    "\n",
    "ax.plot(train_sizes, train_scores_mean, 'o-', color=\"r\", label=\"Training score\")\n",
    "ax.plot(train_sizes, test_scores_mean, 'o-', color=\"g\", label=\"Cross-validation score\")\n",
    "ax.legend(loc=\"best\")\n",
    "\n",
    "plt.show()"
   ]
  },
  {
   "cell_type": "code",
   "execution_count": 219,
   "metadata": {},
   "outputs": [
    {
     "name": "stdout",
     "output_type": "stream",
     "text": [
      "Test data score: 0.04326923076923077\n"
     ]
    }
   ],
   "source": [
    "# Performance on test data\n",
    "print(\"Test data score: \" + str(log_reg_model.score(X_test, y_test.ravel())))"
   ]
  },
  {
   "cell_type": "markdown",
   "metadata": {},
   "source": [
    "### Part 2: Write a summary of what you find from the data\n",
    "\n",
    "- Submit your summary to Canvas\n",
    "- Provide a link to your Git repo of the assignment. \n",
    "\n",
    "Logistic regression is better than linear regression but still it results in a low score. \n",
    "\n",
    "The data shown above tracks the number of COVID-19 Cases in Washington State. The data shows little change until day 40 where the cases start to increase exponentially. Due to this, a linear model is insufficiant. Furthermore, a logistic model works much better. It should be noted that the number of cases is changing due to external factors such as social distancing and really cannot be modeled based on either of these models long term.\n",
    "\n",
    "Note to reader: These Cross Validation Scores were calculated on 4/20/2022. Since the csv file is updated frequently as new data comes in and the data in this notebook changes as a result, I do not expect the scores to remain the same. If we have a true flattening of the curve the linear model will perform better in the new part and the logistic model will perform worse."
   ]
  },
  {
   "cell_type": "markdown",
   "metadata": {},
   "source": []
  }
 ],
 "metadata": {
  "kernelspec": {
   "display_name": "Python 3",
   "language": "python",
   "name": "python3"
  },
  "language_info": {
   "codemirror_mode": {
    "name": "ipython",
    "version": 3
   },
   "file_extension": ".py",
   "mimetype": "text/x-python",
   "name": "python",
   "nbconvert_exporter": "python",
   "pygments_lexer": "ipython3",
   "version": "3.9.7"
  }
 },
 "nbformat": 4,
 "nbformat_minor": 1
}
