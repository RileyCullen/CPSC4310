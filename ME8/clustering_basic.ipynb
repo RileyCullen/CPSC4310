{
 "cells": [
  {
   "cell_type": "markdown",
   "metadata": {},
   "source": [
    "\n",
    "## ME8 Unsupervised Learning\n",
    "\n",
    "### Clustering\n",
    "\n",
    "Basic use of common clustering models\n",
    "\n",
    "- K-means\n",
    "\n",
    "- DBSCAN\n",
    "\n",
    "See also Sklearn resources\n",
    "\n",
    "https://scikit-learn.org/stable/modules/clustering.html"
   ]
  },
  {
   "cell_type": "markdown",
   "metadata": {},
   "source": [
    "### Set up"
   ]
  },
  {
   "cell_type": "code",
   "execution_count": 1,
   "metadata": {},
   "outputs": [],
   "source": [
    "# Python ≥3.5 is required\n",
    "import sys\n",
    "assert sys.version_info >= (3, 5)\n",
    "\n",
    "# Scikit-Learn ≥0.20 is required\n",
    "import sklearn\n",
    "assert sklearn.__version__ >= \"0.20\"\n",
    "\n",
    "# Common imports\n",
    "import numpy as np\n",
    "import pandas as pd\n",
    "import seaborn as sn\n",
    "import os\n",
    "\n",
    "# to make this notebook's output stable across runs\n",
    "np.random.seed(42)\n",
    "\n",
    "# To plot pretty figures\n",
    "%matplotlib inline\n",
    "import matplotlib as mpl\n",
    "import matplotlib.pyplot as plt\n",
    "\n",
    "mpl.rc('axes', labelsize=14)\n",
    "mpl.rc('xtick', labelsize=12)\n",
    "mpl.rc('ytick', labelsize=12)\n",
    "\n",
    "\n",
    "# Where to save the figures\n",
    "PROJECT_ROOT_DIR = \".\"\n",
    "CHAPTER_ID = \"clustering_kmeans\"\n",
    "IMAGES_PATH = os.path.join(PROJECT_ROOT_DIR, \"images\", CHAPTER_ID)\n",
    "os.makedirs(IMAGES_PATH, exist_ok=True)\n",
    "\n",
    "def save_fig(fig_id, tight_layout=True, fig_extension=\"png\", resolution=300):\n",
    "    path = os.path.join(IMAGES_PATH, fig_id + \".\" + fig_extension)\n",
    "    print(\"Saving figure\", fig_id)\n",
    "    if tight_layout:\n",
    "        plt.tight_layout()\n",
    "    plt.savefig(path, format=fig_extension, dpi=resolution)\n",
    "\n",
    "# Ignore useless warnings (see SciPy issue #5998)\n",
    "import warnings\n",
    "warnings.filterwarnings(action=\"ignore\", message=\"^internal gelsd\")"
   ]
  },
  {
   "cell_type": "markdown",
   "metadata": {},
   "source": [
    "### Utility functions"
   ]
  },
  {
   "cell_type": "code",
   "execution_count": 2,
   "metadata": {},
   "outputs": [],
   "source": [
    "import matplotlib.patches as mpatches\n",
    "from matplotlib.colors import ListedColormap, BoundaryNorm\n",
    "\n",
    "def plot_data(X):\n",
    "    plt.plot(X[:, 0], X[:, 1], 'k.', markersize=2)\n",
    "\n",
    "def plot_labelled_scatter(X, y, class_labels):\n",
    "    num_labels = len(class_labels)\n",
    "\n",
    "    x_min, x_max = X[:, 0].min() - 1, X[:, 0].max() + 1\n",
    "    y_min, y_max = X[:, 1].min() - 1, X[:, 1].max() + 1\n",
    "\n",
    "    marker_array = ['o', '^', '*']\n",
    "    color_array = ['#FFFF00', '#00AAFF', '#000000', '#FF00AA']\n",
    "    cmap_bold = ListedColormap(color_array)\n",
    "    bnorm = BoundaryNorm(np.arange(0, num_labels + 1, 1), ncolors=num_labels)\n",
    "    plt.figure()\n",
    "\n",
    "    plt.scatter(X[:, 0], X[:, 1], s=65, c=y, cmap=cmap_bold, norm = bnorm, alpha = 0.40, edgecolor='black', lw = 1)\n",
    "\n",
    "    plt.xlim(x_min, x_max)\n",
    "    plt.ylim(y_min, y_max)\n",
    "\n",
    "    h = []\n",
    "    for c in range(0, num_labels):\n",
    "        h.append(mpatches.Patch(color=color_array[c], label=class_labels[c]))\n",
    "    plt.legend(handles=h)\n",
    "    plt.show()\n",
    "\n",
    "    \n",
    "def plot_dbscan(dbscan, X, size, show_xlabels=True, show_ylabels=True):\n",
    "    core_mask = np.zeros_like(dbscan.labels_, dtype=bool)\n",
    "    core_mask[dbscan.core_sample_indices_] = True\n",
    "    anomalies_mask = dbscan.labels_ == -1\n",
    "    non_core_mask = ~(core_mask | anomalies_mask)\n",
    "\n",
    "    cores = dbscan.components_\n",
    "    anomalies = X[anomalies_mask]\n",
    "    non_cores = X[non_core_mask]\n",
    "    \n",
    "    plt.scatter(cores[:, 0], cores[:, 1],\n",
    "                c=dbscan.labels_[core_mask], marker='o', s=size, cmap=\"Paired\")\n",
    "    plt.scatter(cores[:, 0], cores[:, 1], marker='*', s=20, c=dbscan.labels_[core_mask])\n",
    "    plt.scatter(anomalies[:, 0], anomalies[:, 1],\n",
    "                c=\"r\", marker=\"x\", s=100)\n",
    "    plt.scatter(non_cores[:, 0], non_cores[:, 1], c=dbscan.labels_[non_core_mask], marker=\".\")\n",
    "    if show_xlabels:\n",
    "        plt.xlabel(\"$x_1$\", fontsize=14)\n",
    "    else:\n",
    "        plt.tick_params(labelbottom=False)\n",
    "    if show_ylabels:\n",
    "        plt.ylabel(\"$x_2$\", fontsize=14, rotation=0)\n",
    "    else:\n",
    "        plt.tick_params(labelleft=False)\n",
    "    plt.title(\"eps={:.2f}, min_samples={}\".format(dbscan.eps, dbscan.min_samples), fontsize=14)"
   ]
  },
  {
   "cell_type": "markdown",
   "metadata": {
    "collapsed": true
   },
   "source": [
    "## K-means model\n",
    "\n",
    "The K-Means algorithm is one of the fastest clustering algorithms, but also one of the simplest:\n",
    "* First initialize $k$ centroids randomly: $k$ distinct instances are chosen randomly from the dataset and the centroids are placed at their locations.\n",
    "* Repeat until convergence (i.e., until the centroids stop moving):\n",
    "    * Assign each instance to the closest centroid.\n",
    "    * Update the centroids to be the mean of the instances that are assigned to them.\n",
    "    \n",
    "    \n",
    "The `KMeans` class applies an optimized algorithm by default. To get the original K-Means algorithm (for educational purposes only), you must set `init=\"random\"`, `n_init=1`and `algorithm=\"full\"`. \n",
    "\n",
    "See the details of these hyperparameters: \n",
    "\n",
    "https://scikit-learn.org/stable/modules/generated/sklearn.cluster.KMeans.html"
   ]
  },
  {
   "cell_type": "markdown",
   "metadata": {},
   "source": [
    "### 1. A synthetic dataset\n",
    "\n",
    "This example creates a synthetic dataset with make_blobs, then applies k-means to find 3 clusters, and plots the points in each cluster identified by a corresponding color.\n",
    "\n",
    "#### Generate a dataset"
   ]
  },
  {
   "cell_type": "code",
   "execution_count": 3,
   "metadata": {},
   "outputs": [
    {
     "data": {
      "image/png": "[encoded data removed]",
      "text/plain": [
       "<Figure size 432x288 with 1 Axes>"
      ]
     },
     "metadata": {
      "needs_background": "light"
     },
     "output_type": "display_data"
    }
   ],
   "source": [
    "from sklearn.datasets import make_blobs\n",
    "\n",
    "X, y = make_blobs(random_state = 10)\n",
    "\n",
    "plot_data(X)\n",
    "\n",
    "\n"
   ]
  },
  {
   "cell_type": "markdown",
   "metadata": {},
   "source": [
    "#### K-means model "
   ]
  },
  {
   "cell_type": "code",
   "execution_count": 4,
   "metadata": {},
   "outputs": [],
   "source": [
    "from sklearn.cluster import KMeans\n",
    "\n",
    "# create a K-means model\n",
    "kmeans = KMeans(n_clusters=3, init='random', n_init=1, max_iter=10, algorithm='full')\n"
   ]
  },
  {
   "cell_type": "code",
   "execution_count": 5,
   "metadata": {},
   "outputs": [
    {
     "data": {
      "text/plain": [
       "KMeans(algorithm='full', init='random', max_iter=10, n_clusters=3, n_init=1)"
      ]
     },
     "execution_count": 5,
     "metadata": {},
     "output_type": "execute_result"
    }
   ],
   "source": [
    "# fit the model\n",
    "kmeans.fit(X)"
   ]
  },
  {
   "cell_type": "code",
   "execution_count": 6,
   "metadata": {},
   "outputs": [
    {
     "data": {
      "image/png": "[encoded data removed]",
      "text/plain": [
       "<Figure size 432x288 with 1 Axes>"
      ]
     },
     "metadata": {
      "needs_background": "light"
     },
     "output_type": "display_data"
    }
   ],
   "source": [
    "# plot the resulting clusters\n",
    "\n",
    "plot_labelled_scatter(X, kmeans.labels_, ['C', 'C2', 'C3'])"
   ]
  },
  {
   "cell_type": "markdown",
   "metadata": {},
   "source": [
    "### 2. Real dataset: Fruit dataset\n",
    "\n",
    "#### Load the data\n",
    "\n",
    "A data file: ./data/fruit_data_with_colors.txt"
   ]
  },
  {
   "cell_type": "code",
   "execution_count": 7,
   "metadata": {},
   "outputs": [
    {
     "data": {
      "text/html": [
       "<div>\n",
       "<style scoped>\n",
       "    .dataframe tbody tr th:only-of-type {\n",
       "        vertical-align: middle;\n",
       "    }\n",
       "\n",
       "    .dataframe tbody tr th {\n",
       "        vertical-align: top;\n",
       "    }\n",
       "\n",
       "    .dataframe thead th {\n",
       "        text-align: right;\n",
       "    }\n",
       "</style>\n",
       "<table border=\"1\" class=\"dataframe\">\n",
       "  <thead>\n",
       "    <tr style=\"text-align: right;\">\n",
       "      <th></th>\n",
       "      <th>fruit_label</th>\n",
       "      <th>fruit_name</th>\n",
       "      <th>fruit_subtype</th>\n",
       "      <th>mass</th>\n",
       "      <th>width</th>\n",
       "      <th>height</th>\n",
       "      <th>color_score</th>\n",
       "    </tr>\n",
       "  </thead>\n",
       "  <tbody>\n",
       "    <tr>\n",
       "      <th>0</th>\n",
       "      <td>1</td>\n",
       "      <td>apple</td>\n",
       "      <td>granny_smith</td>\n",
       "      <td>192</td>\n",
       "      <td>8.4</td>\n",
       "      <td>7.3</td>\n",
       "      <td>0.55</td>\n",
       "    </tr>\n",
       "    <tr>\n",
       "      <th>1</th>\n",
       "      <td>1</td>\n",
       "      <td>apple</td>\n",
       "      <td>granny_smith</td>\n",
       "      <td>180</td>\n",
       "      <td>8.0</td>\n",
       "      <td>6.8</td>\n",
       "      <td>0.59</td>\n",
       "    </tr>\n",
       "    <tr>\n",
       "      <th>2</th>\n",
       "      <td>1</td>\n",
       "      <td>apple</td>\n",
       "      <td>granny_smith</td>\n",
       "      <td>176</td>\n",
       "      <td>7.4</td>\n",
       "      <td>7.2</td>\n",
       "      <td>0.60</td>\n",
       "    </tr>\n",
       "    <tr>\n",
       "      <th>3</th>\n",
       "      <td>2</td>\n",
       "      <td>mandarin</td>\n",
       "      <td>mandarin</td>\n",
       "      <td>86</td>\n",
       "      <td>6.2</td>\n",
       "      <td>4.7</td>\n",
       "      <td>0.80</td>\n",
       "    </tr>\n",
       "    <tr>\n",
       "      <th>4</th>\n",
       "      <td>2</td>\n",
       "      <td>mandarin</td>\n",
       "      <td>mandarin</td>\n",
       "      <td>84</td>\n",
       "      <td>6.0</td>\n",
       "      <td>4.6</td>\n",
       "      <td>0.79</td>\n",
       "    </tr>\n",
       "  </tbody>\n",
       "</table>\n",
       "</div>"
      ],
      "text/plain": [
       "   fruit_label fruit_name fruit_subtype  mass  width  height  color_score\n",
       "0            1      apple  granny_smith   192    8.4     7.3         0.55\n",
       "1            1      apple  granny_smith   180    8.0     6.8         0.59\n",
       "2            1      apple  granny_smith   176    7.4     7.2         0.60\n",
       "3            2   mandarin      mandarin    86    6.2     4.7         0.80\n",
       "4            2   mandarin      mandarin    84    6.0     4.6         0.79"
      ]
     },
     "execution_count": 7,
     "metadata": {},
     "output_type": "execute_result"
    }
   ],
   "source": [
    "fruits = pd.read_csv('./data/fruit_data_with_colors.txt', sep='\\t', engine='python')\n",
    "\n",
    "\n",
    "fruits.head()"
   ]
  },
  {
   "cell_type": "code",
   "execution_count": 8,
   "metadata": {},
   "outputs": [
    {
     "name": "stdout",
     "output_type": "stream",
     "text": [
      "[[192.     8.4    7.3    0.55]\n",
      " [180.     8.     6.8    0.59]\n",
      " [176.     7.4    7.2    0.6 ]\n",
      " [ 86.     6.2    4.7    0.8 ]\n",
      " [ 84.     6.     4.6    0.79]\n",
      " [ 80.     5.8    4.3    0.77]\n",
      " [ 80.     5.9    4.3    0.81]\n",
      " [ 76.     5.8    4.     0.81]\n",
      " [178.     7.1    7.8    0.92]\n",
      " [172.     7.4    7.     0.89]\n",
      " [166.     6.9    7.3    0.93]\n",
      " [172.     7.1    7.6    0.92]\n",
      " [154.     7.     7.1    0.88]\n",
      " [164.     7.3    7.7    0.7 ]\n",
      " [152.     7.6    7.3    0.69]\n",
      " [156.     7.7    7.1    0.69]\n",
      " [156.     7.6    7.5    0.67]\n",
      " [168.     7.5    7.6    0.73]\n",
      " [162.     7.5    7.1    0.83]\n",
      " [162.     7.4    7.2    0.85]\n",
      " [160.     7.5    7.5    0.86]\n",
      " [156.     7.4    7.4    0.84]\n",
      " [140.     7.3    7.1    0.87]\n",
      " [170.     7.6    7.9    0.88]\n",
      " [342.     9.     9.4    0.75]\n",
      " [356.     9.2    9.2    0.75]\n",
      " [362.     9.6    9.2    0.74]\n",
      " [204.     7.5    9.2    0.77]\n",
      " [140.     6.7    7.1    0.72]\n",
      " [160.     7.     7.4    0.81]\n",
      " [158.     7.1    7.5    0.79]\n",
      " [210.     7.8    8.     0.82]\n",
      " [164.     7.2    7.     0.8 ]\n",
      " [190.     7.5    8.1    0.74]\n",
      " [142.     7.6    7.8    0.75]\n",
      " [150.     7.1    7.9    0.75]\n",
      " [160.     7.1    7.6    0.76]\n",
      " [154.     7.3    7.3    0.79]\n",
      " [158.     7.2    7.8    0.77]\n",
      " [144.     6.8    7.4    0.75]\n",
      " [154.     7.1    7.5    0.78]\n",
      " [180.     7.6    8.2    0.79]\n",
      " [154.     7.2    7.2    0.82]\n",
      " [194.     7.2   10.3    0.7 ]\n",
      " [200.     7.3   10.5    0.72]\n",
      " [186.     7.2    9.2    0.72]\n",
      " [216.     7.3   10.2    0.71]\n",
      " [196.     7.3    9.7    0.72]\n",
      " [174.     7.3   10.1    0.72]\n",
      " [132.     5.8    8.7    0.73]\n",
      " [130.     6.     8.2    0.71]\n",
      " [116.     6.     7.5    0.72]\n",
      " [118.     5.9    8.     0.72]\n",
      " [120.     6.     8.4    0.74]\n",
      " [116.     6.1    8.5    0.71]\n",
      " [116.     6.3    7.7    0.72]\n",
      " [116.     5.9    8.1    0.73]\n",
      " [152.     6.5    8.5    0.72]\n",
      " [118.     6.1    8.1    0.7 ]]\n",
      "    fruit_label\n",
      "0             0\n",
      "1             0\n",
      "2             0\n",
      "3             1\n",
      "4             1\n",
      "5             1\n",
      "6             1\n",
      "7             1\n",
      "8             0\n",
      "9             0\n",
      "10            0\n",
      "11            0\n",
      "12            0\n",
      "13            0\n",
      "14            0\n",
      "15            0\n",
      "16            0\n",
      "17            0\n",
      "18            0\n",
      "19            0\n",
      "20            0\n",
      "21            0\n",
      "22            0\n",
      "23            0\n",
      "24            2\n",
      "25            2\n",
      "26            2\n",
      "27            2\n",
      "28            2\n",
      "29            2\n",
      "30            2\n",
      "31            2\n",
      "32            2\n",
      "33            2\n",
      "34            2\n",
      "35            2\n",
      "36            2\n",
      "37            2\n",
      "38            2\n",
      "39            2\n",
      "40            2\n",
      "41            2\n",
      "42            2\n",
      "43            3\n",
      "44            3\n",
      "45            3\n",
      "46            3\n",
      "47            3\n",
      "48            3\n",
      "49            3\n",
      "50            3\n",
      "51            3\n",
      "52            3\n",
      "53            3\n",
      "54            3\n",
      "55            3\n",
      "56            3\n",
      "57            3\n",
      "58            3\n"
     ]
    }
   ],
   "source": [
    "# Since this dataset already include class labels, we can evaluate the model based on that\n",
    "# Have X and y\n",
    "\n",
    "X = fruits[['mass', 'width', 'height', 'color_score']].values\n",
    "y = fruits[['fruit_label']]-1\n",
    "\n",
    "print(X)\n",
    "print(y)"
   ]
  },
  {
   "cell_type": "code",
   "execution_count": 9,
   "metadata": {},
   "outputs": [
    {
     "data": {
      "image/png": "[encoded data removed]",
      "text/plain": [
       "<Figure size 432x288 with 1 Axes>"
      ]
     },
     "metadata": {
      "needs_background": "light"
     },
     "output_type": "display_data"
    }
   ],
   "source": [
    "# plot the data (only use 2 attributes, 'mass', 'width')\n",
    "\n",
    "plot_data(X)"
   ]
  },
  {
   "cell_type": "markdown",
   "metadata": {},
   "source": [
    "#### Standarizing the data (scaling)\n",
    "\n",
    "- Note that in general, it's important to scale the individual features before applying k-means clustering."
   ]
  },
  {
   "cell_type": "code",
   "execution_count": 10,
   "metadata": {},
   "outputs": [
    {
     "data": {
      "image/png": "[encoded data removed]",
      "text/plain": [
       "<Figure size 432x288 with 1 Axes>"
      ]
     },
     "metadata": {
      "needs_background": "light"
     },
     "output_type": "display_data"
    }
   ],
   "source": [
    "from sklearn.cluster import KMeans\n",
    "\n",
    "# create a K-means model\n",
    "# set hyperparameter n_clusters=4, init = 'k-means++' and algorithm = 'elkan'\n",
    "\n",
    "kmeans = KMeans(n_clusters=4, init='k-means++', n_init=3, max_iter=500, algorithm='elkan')\n",
    "\n",
    "\n",
    "# fit the model with the data\n",
    "kmeans.fit(X)\n",
    "\n",
    "# plot the cluster\n",
    "plot_labelled_scatter(X, kmeans.labels_, ['C1', 'C2', 'C3', 'C4'])"
   ]
  },
  {
   "cell_type": "code",
   "execution_count": 11,
   "metadata": {},
   "outputs": [
    {
     "data": {
      "image/png": "[encoded data removed]",
      "text/plain": [
       "<Figure size 432x288 with 1 Axes>"
      ]
     },
     "metadata": {
      "needs_background": "light"
     },
     "output_type": "display_data"
    }
   ],
   "source": [
    "from sklearn.preprocessing import MinMaxScaler\n",
    "\n",
    "# normalized the data\n",
    "\n",
    "X_normalized = MinMaxScaler().fit(X).transform(X)\n",
    "\n",
    "# plot the data\n",
    "\n",
    "plot_data(X_normalized)"
   ]
  },
  {
   "cell_type": "code",
   "execution_count": 12,
   "metadata": {},
   "outputs": [
    {
     "data": {
      "image/png": "[encoded data removed]",
      "text/plain": [
       "<Figure size 432x288 with 1 Axes>"
      ]
     },
     "metadata": {
      "needs_background": "light"
     },
     "output_type": "display_data"
    }
   ],
   "source": [
    "from sklearn.cluster import KMeans\n",
    "\n",
    "# create a K-means model\n",
    "# set hyperparameter n_clusters=4, init = 'k-means++' and algorithm = 'elkan'\n",
    "\n",
    "kmeans = KMeans(n_clusters=4, init='k-means++', n_init=3, max_iter=500, algorithm='elkan')\n",
    "\n",
    "\n",
    "# fit the model with the data\n",
    "kmeans.fit(X_normalized)\n",
    "\n",
    "# plot the cluster\n",
    "plot_labelled_scatter(X_normalized, kmeans.labels_, ['C1', 'C2', 'C3', 'C4'])"
   ]
  },
  {
   "cell_type": "markdown",
   "metadata": {},
   "source": [
    "#### K-means model\n",
    "\n",
    "- This example showing k-means used to find 4 clusters in the fruits dataset."
   ]
  },
  {
   "cell_type": "markdown",
   "metadata": {},
   "source": [
    "## k-means vs. DBSCAN clustering"
   ]
  },
  {
   "cell_type": "markdown",
   "metadata": {},
   "source": [
    "### 1. A simple dataset\n",
    "\n",
    "#### Generate a dataset"
   ]
  },
  {
   "cell_type": "code",
   "execution_count": 13,
   "metadata": {},
   "outputs": [
    {
     "data": {
      "image/png": "[encoded data removed]",
      "text/plain": [
       "<Figure size 432x288 with 1 Axes>"
      ]
     },
     "metadata": {
      "needs_background": "light"
     },
     "output_type": "display_data"
    }
   ],
   "source": [
    "from sklearn.datasets import make_blobs\n",
    "\n",
    "X, y = make_blobs(random_state = 9, n_samples = 25)\n",
    "\n",
    "plot_data(X)"
   ]
  },
  {
   "cell_type": "markdown",
   "metadata": {},
   "source": [
    "#### K-means model"
   ]
  },
  {
   "cell_type": "code",
   "execution_count": 14,
   "metadata": {},
   "outputs": [
    {
     "data": {
      "image/png": "[encoded data removed]",
      "text/plain": [
       "<Figure size 432x288 with 1 Axes>"
      ]
     },
     "metadata": {
      "needs_background": "light"
     },
     "output_type": "display_data"
    }
   ],
   "source": [
    "from sklearn.cluster import KMeans\n",
    "\n",
    "kmeans = KMeans(n_clusters=3)\n",
    "kmeans.fit(X)\n",
    "\n",
    "plot_labelled_scatter(X, kmeans.labels_, ['C1', 'C2', 'C3'])"
   ]
  },
  {
   "cell_type": "markdown",
   "metadata": {},
   "source": [
    "#### DBSCAN model\n",
    "\n",
    "Read the description of the model parameters\n",
    "\n",
    "https://scikit-learn.org/stable/modules/generated/sklearn.cluster.DBSCAN.html"
   ]
  },
  {
   "cell_type": "code",
   "execution_count": 15,
   "metadata": {},
   "outputs": [
    {
     "data": {
      "image/png": "[encoded data removed]",
      "text/plain": [
       "<Figure size 432x288 with 1 Axes>"
      ]
     },
     "metadata": {
      "needs_background": "light"
     },
     "output_type": "display_data"
    }
   ],
   "source": [
    "from sklearn.cluster import DBSCAN\n",
    "\n",
    "\n",
    "dbscan = DBSCAN(eps=2, min_samples=2)\n",
    "dbscan.fit(X)\n",
    "\n",
    "plot_labelled_scatter(X, dbscan.labels_+1, ['noise', 'C1', 'C2', 'C3'])"
   ]
  },
  {
   "cell_type": "markdown",
   "metadata": {},
   "source": [
    "## ME8 Part 1 \n",
    "\n",
    "### Task 1: The Moon Dataset\n",
    "#### Apply the following clustering models on a more complex dataset. \n",
    "\n",
    "- K-means\n",
    "\n",
    "- DBSCAN"
   ]
  },
  {
   "cell_type": "markdown",
   "metadata": {},
   "source": [
    "### A more complicated dataset\n",
    "\n",
    "#### Generate a synthetic dataset"
   ]
  },
  {
   "cell_type": "code",
   "execution_count": 16,
   "metadata": {},
   "outputs": [
    {
     "data": {
      "image/png": "[encoded data removed]",
      "text/plain": [
       "<Figure size 432x288 with 1 Axes>"
      ]
     },
     "metadata": {
      "needs_background": "light"
     },
     "output_type": "display_data"
    }
   ],
   "source": [
    "from sklearn.datasets import make_moons\n",
    "\n",
    "X, y = make_moons(n_samples=1000, noise=0.05, random_state=42)\n",
    "\n",
    "plot_data(X)"
   ]
  },
  {
   "cell_type": "markdown",
   "metadata": {},
   "source": [
    "#### (1) K-means model\n",
    "\n",
    "\n",
    "- Apply k-means model\n",
    "\n",
    "- use k = 2"
   ]
  },
  {
   "cell_type": "code",
   "execution_count": 17,
   "metadata": {},
   "outputs": [
    {
     "data": {
      "image/png": "[encoded data removed]",
      "text/plain": [
       "<Figure size 432x288 with 1 Axes>"
      ]
     },
     "metadata": {
      "needs_background": "light"
     },
     "output_type": "display_data"
    }
   ],
   "source": [
    "kmeans = KMeans(n_clusters=2)\n",
    "kmeans.fit(X)\n",
    "\n",
    "plot_labelled_scatter(X, kmeans.labels_, ['C1', 'C2'])"
   ]
  },
  {
   "cell_type": "markdown",
   "metadata": {},
   "source": [
    "#### (2) DBSCAN model\n",
    "\n",
    "- Apply DBSCAN model\n",
    "\n",
    "- use eps=0.2, min_samples=5"
   ]
  },
  {
   "cell_type": "code",
   "execution_count": 18,
   "metadata": {},
   "outputs": [
    {
     "data": {
      "image/png": "[encoded data removed]",
      "text/plain": [
       "<Figure size 432x288 with 1 Axes>"
      ]
     },
     "metadata": {
      "needs_background": "light"
     },
     "output_type": "display_data"
    }
   ],
   "source": [
    "dbscan = DBSCAN(eps=0.2, min_samples=5)\n",
    "dbscan.fit(X)\n",
    "\n",
    "plot_labelled_scatter(X, dbscan.labels_+1, ['noise', 'C1', 'C2'])"
   ]
  },
  {
   "cell_type": "markdown",
   "metadata": {},
   "source": [
    "### Task 2: The Breast Cancer Dataset\n",
    "#### Apply k-means model on breast cancer dataset and check the model performance\n",
    "\n",
    "- check also notebook, clustering_Kmeans.ipynb for implementation details of k-means model"
   ]
  },
  {
   "cell_type": "markdown",
   "metadata": {},
   "source": [
    "#### (1) load the data\n",
    "\n",
    "- load breat cancer dataset from sklearn.datasets (set the parameter, return_X_y = True)\n",
    "\n",
    "- print the first five X values\n",
    "\n",
    "- print the first five y values"
   ]
  },
  {
   "cell_type": "code",
   "execution_count": 24,
   "metadata": {},
   "outputs": [
    {
     "name": "stdout",
     "output_type": "stream",
     "text": [
      "X:\n",
      " [[1.799e+01 1.038e+01 1.228e+02 1.001e+03 1.184e-01 2.776e-01 3.001e-01\n",
      "  1.471e-01 2.419e-01 7.871e-02 1.095e+00 9.053e-01 8.589e+00 1.534e+02\n",
      "  6.399e-03 4.904e-02 5.373e-02 1.587e-02 3.003e-02 6.193e-03 2.538e+01\n",
      "  1.733e+01 1.846e+02 2.019e+03 1.622e-01 6.656e-01 7.119e-01 2.654e-01\n",
      "  4.601e-01 1.189e-01]\n",
      " [2.057e+01 1.777e+01 1.329e+02 1.326e+03 8.474e-02 7.864e-02 8.690e-02\n",
      "  7.017e-02 1.812e-01 5.667e-02 5.435e-01 7.339e-01 3.398e+00 7.408e+01\n",
      "  5.225e-03 1.308e-02 1.860e-02 1.340e-02 1.389e-02 3.532e-03 2.499e+01\n",
      "  2.341e+01 1.588e+02 1.956e+03 1.238e-01 1.866e-01 2.416e-01 1.860e-01\n",
      "  2.750e-01 8.902e-02]\n",
      " [1.969e+01 2.125e+01 1.300e+02 1.203e+03 1.096e-01 1.599e-01 1.974e-01\n",
      "  1.279e-01 2.069e-01 5.999e-02 7.456e-01 7.869e-01 4.585e+00 9.403e+01\n",
      "  6.150e-03 4.006e-02 3.832e-02 2.058e-02 2.250e-02 4.571e-03 2.357e+01\n",
      "  2.553e+01 1.525e+02 1.709e+03 1.444e-01 4.245e-01 4.504e-01 2.430e-01\n",
      "  3.613e-01 8.758e-02]\n",
      " [1.142e+01 2.038e+01 7.758e+01 3.861e+02 1.425e-01 2.839e-01 2.414e-01\n",
      "  1.052e-01 2.597e-01 9.744e-02 4.956e-01 1.156e+00 3.445e+00 2.723e+01\n",
      "  9.110e-03 7.458e-02 5.661e-02 1.867e-02 5.963e-02 9.208e-03 1.491e+01\n",
      "  2.650e+01 9.887e+01 5.677e+02 2.098e-01 8.663e-01 6.869e-01 2.575e-01\n",
      "  6.638e-01 1.730e-01]\n",
      " [2.029e+01 1.434e+01 1.351e+02 1.297e+03 1.003e-01 1.328e-01 1.980e-01\n",
      "  1.043e-01 1.809e-01 5.883e-02 7.572e-01 7.813e-01 5.438e+00 9.444e+01\n",
      "  1.149e-02 2.461e-02 5.688e-02 1.885e-02 1.756e-02 5.115e-03 2.254e+01\n",
      "  1.667e+01 1.522e+02 1.575e+03 1.374e-01 2.050e-01 4.000e-01 1.625e-01\n",
      "  2.364e-01 7.678e-02]]\n",
      "Y:\n",
      " [0 0 0 0 0]\n"
     ]
    }
   ],
   "source": [
    "from sklearn.datasets import load_breast_cancer\n",
    "X, y = load_breast_cancer(return_X_y=True)\n",
    "\n",
    "print(\"X:\\n\", X[0:5])\n",
    "print(\"Y:\\n\", y[0:5])"
   ]
  },
  {
   "cell_type": "markdown",
   "metadata": {},
   "source": [
    "#### (2) scaling the data\n",
    "\n",
    "- scale X values using MinMaxScaler()\n",
    "\n",
    "- print the normalized (scaled) values of the first five X"
   ]
  },
  {
   "cell_type": "code",
   "execution_count": 25,
   "metadata": {},
   "outputs": [
    {
     "name": "stdout",
     "output_type": "stream",
     "text": [
      "X_normalized:\n",
      " [[0.52103744 0.0226581  0.54598853 0.36373277 0.59375282 0.7920373\n",
      "  0.70313964 0.73111332 0.68636364 0.60551811 0.35614702 0.12046941\n",
      "  0.3690336  0.27381126 0.15929565 0.35139844 0.13568182 0.30062512\n",
      "  0.31164518 0.18304244 0.62077552 0.14152452 0.66831017 0.45069799\n",
      "  0.60113584 0.61929156 0.56861022 0.91202749 0.59846245 0.41886396]\n",
      " [0.64314449 0.27257355 0.61578329 0.50159067 0.28987993 0.18176799\n",
      "  0.20360825 0.34875746 0.37979798 0.14132266 0.15643672 0.08258929\n",
      "  0.12444047 0.12565979 0.11938675 0.08132304 0.0469697  0.25383595\n",
      "  0.08453875 0.0911101  0.60690146 0.30357143 0.53981772 0.43521431\n",
      "  0.34755332 0.15456336 0.19297125 0.63917526 0.23358959 0.22287813]\n",
      " [0.60149557 0.3902604  0.59574321 0.44941676 0.51430893 0.4310165\n",
      "  0.46251172 0.63568588 0.50959596 0.21124684 0.22962158 0.09430251\n",
      "  0.18037035 0.16292179 0.15083115 0.2839547  0.09676768 0.38984656\n",
      "  0.20569032 0.12700551 0.55638563 0.36007463 0.50844166 0.37450845\n",
      "  0.48358978 0.38537513 0.35974441 0.83505155 0.40370589 0.21343303]\n",
      " [0.2100904  0.36083869 0.23350149 0.10290562 0.81132075 0.81136127\n",
      "  0.5656045  0.52286282 0.77626263 1.         0.13909107 0.17587518\n",
      "  0.12665504 0.03815479 0.25145324 0.54321507 0.14295455 0.35366547\n",
      "  0.72814769 0.28720479 0.24831021 0.38592751 0.24134668 0.09400806\n",
      "  0.9154725  0.8140117  0.54864217 0.88487973 1.         0.77371114]\n",
      " [0.62989256 0.15657761 0.63098611 0.4892895  0.43035118 0.34789277\n",
      "  0.46391753 0.51838966 0.37828283 0.1868155  0.2338222  0.09306489\n",
      "  0.2205626  0.16368757 0.33235884 0.16791841 0.14363636 0.3570752\n",
      "  0.13617943 0.14579965 0.51974386 0.1239339  0.50694756 0.34157491\n",
      "  0.4373638  0.17241513 0.31948882 0.55841924 0.15750049 0.14259478]]\n"
     ]
    }
   ],
   "source": [
    "X_normalized = MinMaxScaler().fit_transform(X)\n",
    "print(\"X_normalized:\\n\", X_normalized[0:5])"
   ]
  },
  {
   "cell_type": "markdown",
   "metadata": {},
   "source": [
    "#### (3) K-means model\n",
    "\n",
    "- Apply k-means model with k = 2"
   ]
  },
  {
   "cell_type": "code",
   "execution_count": 26,
   "metadata": {},
   "outputs": [],
   "source": [
    "kmeans = KMeans(n_clusters=2).fit(X_normalized)"
   ]
  },
  {
   "cell_type": "markdown",
   "metadata": {},
   "source": [
    "#### (4) Evaluate Model performance of K-means\n",
    "\n",
    "##### evaluation method 1:\n",
    "\n",
    "- print the sum of all correctly predicted data (y_predicted==y_cancer)\n",
    "\n",
    "- Since we have y_cancer values, we compare the predicted value to its y_cancer value. The ratio of correctly predicted class can represent the accuracy of the model. \n",
    "\n",
    "\n",
    "##### evaluaton method 2:\n",
    "\n",
    "- calculate Silhouette scores (examples are given in cluster_eval.ipynb)"
   ]
  },
  {
   "cell_type": "code",
   "execution_count": 30,
   "metadata": {},
   "outputs": [
    {
     "name": "stdout",
     "output_type": "stream",
     "text": [
      "Accuracy:  0.9279437609841827\n"
     ]
    }
   ],
   "source": [
    "y_pred = kmeans.predict(X_normalized)\n",
    "print(\"Accuracy: \", (y_pred == y).sum() / len(y))"
   ]
  },
  {
   "cell_type": "code",
   "execution_count": 34,
   "metadata": {},
   "outputs": [
    {
     "name": "stdout",
     "output_type": "stream",
     "text": [
      "0.3845494883485513\n"
     ]
    }
   ],
   "source": [
    "from sklearn.metrics import silhouette_score\n",
    "data = load_breast_cancer()\n",
    "labels = data.target_names\n",
    "\n",
    "print(silhouette_score(X_normalized, kmeans.labels_))"
   ]
  },
  {
   "cell_type": "markdown",
   "metadata": {},
   "source": [
    "#### (5) Optimal parameters of clustering models\n",
    "\n",
    "Pleae check the examples of k-means and DBSCAN models in the following notebook (available on ME8 assignment page) and find out optimal parameters of each of the algorithms for the given dataset. \n",
    "\n",
    "- clustering_Kmeans.ipynb\n",
    "\n",
    "- clustering_DBSCAN.ipynb\n"
   ]
  },
  {
   "cell_type": "code",
   "execution_count": 37,
   "metadata": {},
   "outputs": [
    {
     "name": "stdout",
     "output_type": "stream",
     "text": [
      "Accuracy:  0.07205623901581722\n",
      "Accuracy:  0.7047451669595782\n",
      "Accuracy:  0.0351493848857645\n",
      "Accuracy:  0.4305799648506151\n",
      "Accuracy:  0.4358523725834798\n",
      "Accuracy:  0.09666080843585237\n",
      "Accuracy:  0.0017574692442882249\n",
      "Accuracy:  0.019332161687170474\n",
      "Accuracy:  0.23374340949033393\n",
      "Optimal n:  3\n"
     ]
    }
   ],
   "source": [
    "optimal_n = 2\n",
    "best_acc = 0\n",
    "for n in [2, 3, 4, 5, 6, 7, 8, 9, 10]:\n",
    "    kmeans = KMeans(n_clusters=n).fit(X_normalized)\n",
    "    y_pred = kmeans.predict(X_normalized)\n",
    "    acc = (y_pred == y).sum() / len(y) \n",
    "    print(\"Accuracy: \", acc)\n",
    "\n",
    "    if (acc > best_acc): \n",
    "        best_acc = acc\n",
    "        optimal_n = n\n",
    "\n",
    "print(\"Optimal n: \", optimal_n)\n"
   ]
  },
  {
   "cell_type": "code",
   "execution_count": 39,
   "metadata": {},
   "outputs": [
    {
     "name": "stdout",
     "output_type": "stream",
     "text": [
      "Accuracy:  0.1704745166959578\n",
      "Accuracy:  0.210896309314587\n",
      "Accuracy:  0.15641476274165203\n",
      "Accuracy:  0.07557117750439367\n",
      "Optimal n:  400\n"
     ]
    }
   ],
   "source": [
    "optimal_iter = 300\n",
    "best_acc = 0\n",
    "for n in [300, 400, 500, 600]:\n",
    "    kmeans = KMeans(max_iter=n).fit(X_normalized)\n",
    "    y_pred = kmeans.predict(X_normalized)\n",
    "    acc = (y_pred == y).sum() / len(y) \n",
    "    print(\"Accuracy: \", acc)\n",
    "\n",
    "    if (acc > best_acc): \n",
    "        best_acc = acc\n",
    "        optimal_iter = n\n",
    "\n",
    "print(\"Optimal n: \", optimal_iter)\n"
   ]
  },
  {
   "cell_type": "code",
   "execution_count": 57,
   "metadata": {},
   "outputs": [
    {
     "name": "stdout",
     "output_type": "stream",
     "text": [
      "Optimal eps:  0.3\n"
     ]
    }
   ],
   "source": [
    "optimal_eps = 2\n",
    "best_acc = 0\n",
    "for eps in [0.05, 0.1, 0.2, 0.3, 0.4, 0.5]:\n",
    "    dbscan = DBSCAN(eps=eps).fit(X_normalized)\n",
    "    acc = (dbscan.labels_ == y).sum() / len(y)\n",
    "\n",
    "    if (acc > best_acc):\n",
    "        best_acc = acc\n",
    "        optimal_eps = eps\n",
    "\n",
    "print(\"Optimal eps: \", optimal_eps)\n"
   ]
  },
  {
   "cell_type": "code",
   "execution_count": 58,
   "metadata": {},
   "outputs": [
    {
     "name": "stdout",
     "output_type": "stream",
     "text": [
      "Optimal eps:  1\n"
     ]
    }
   ],
   "source": [
    "optimal_min = 2\n",
    "best_acc = 0\n",
    "for min in [1, 2, 3, 4, 5, 6]:\n",
    "    dbscan = DBSCAN(min_samples=min).fit(X_normalized)\n",
    "    acc = (dbscan.labels_ == y).sum() / len(y)\n",
    "\n",
    "    if (acc > best_acc):\n",
    "        best_acc = acc\n",
    "        optimal_min = min\n",
    "\n",
    "print(\"Optimal eps: \", optimal_min)"
   ]
  },
  {
   "cell_type": "markdown",
   "metadata": {},
   "source": [
    "## Part 2\n",
    "\n",
    "- Upload the notebook on GitHub\n",
    "\n",
    "- Submit a summary of your learning to Canvas. Your document should include:\n",
    "    - Full names of your team members who work on the assignment.\n",
    "    - URL links to the notebook of each student on GitHub repo. \n",
    "    - A summary of what you learned from the teamwork assignment. "
   ]
  },
  {
   "cell_type": "code",
   "execution_count": null,
   "metadata": {},
   "outputs": [],
   "source": []
  }
 ],
 "metadata": {
  "anaconda-cloud": {},
  "interpreter": {
   "hash": "bb4828e1f19ce6c69818ac3b8c1b6b1b26241c61c52889593341273a8bccc166"
  },
  "kernelspec": {
   "display_name": "Python 3.9.7 ('base')",
   "language": "python",
   "name": "python3"
  },
  "language_info": {
   "codemirror_mode": {
    "name": "ipython",
    "version": 3
   },
   "file_extension": ".py",
   "mimetype": "text/x-python",
   "name": "python",
   "nbconvert_exporter": "python",
   "pygments_lexer": "ipython3",
   "version": "3.9.7"
  }
 },
 "nbformat": 4,
 "nbformat_minor": 1
}
