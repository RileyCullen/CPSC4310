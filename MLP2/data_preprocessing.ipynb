{
 "cells": [
  {
   "cell_type": "markdown",
   "metadata": {},
   "source": [
    "# Purpose\n",
    "The purpose of this notebook is to perform data preprocessing on the two datasets located within the raw_data directory. This program will:\n",
    "1. Find the number of missing/NaN/null values\n",
    "2. Remove entry or impute missing values (depending on # of missing values)\n",
    "3. Convert all categorical features to numeric features (logistic regression, SVM, and neural network models require numeric features)\n",
    "4. Normalize all features to range [0, 1] (required for SVMs since they use distance as a metric; recommended for neural networks)\n",
    "\n",
    "# Authors\n",
    "1. Mason Adsero\n",
    "2. Riley Cullen\n"
   ]
  },
  {
   "cell_type": "code",
   "execution_count": null,
   "metadata": {},
   "outputs": [],
   "source": []
  }
 ],
 "metadata": {
  "language_info": {
   "name": "python"
  },
  "orig_nbformat": 4
 },
 "nbformat": 4,
 "nbformat_minor": 2
}
