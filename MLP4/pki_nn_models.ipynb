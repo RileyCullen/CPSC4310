{
 "cells": [
  {
   "cell_type": "markdown",
   "metadata": {},
   "source": [
    "# pki_nn_models.ipynb\n",
    "The purpose of this file is to a neural network model based on the pki dataset. Since the pki dataset is imbalanced, upsampling will be performed frist followed by the model training "
   ]
  },
  {
   "cell_type": "markdown",
   "metadata": {},
   "source": [
    "## Upsampling the data"
   ]
  },
  {
   "cell_type": "code",
   "execution_count": 2,
   "metadata": {},
   "outputs": [
    {
     "name": "stdout",
     "output_type": "stream",
     "text": [
      "d_X shape:  (292422, 26)\n",
      "d_y shape:  (292422, 1)\n",
      "\n",
      "X_train shape:  (204695, 26)\n",
      "X_test shape:  (87727, 26)\n",
      "y_train shape:  (204695, 1)\n",
      "y_test shape:  (87727, 1)\n"
     ]
    },
    {
     "data": {
      "image/png": "[encoded data removed]",
      "text/plain": [
       "<Figure size 432x288 with 1 Axes>"
      ]
     },
     "metadata": {},
     "output_type": "display_data"
    }
   ],
   "source": [
    "import pandas as pd\n",
    "import numpy as np\n",
    "from sklearn.utils import resample\n",
    "from sklearn.model_selection import train_test_split\n",
    "\n",
    "pki_df = pd.read_csv(\"../MLP2/input/heart_2020_normalized.csv\")\n",
    "x_columns = ['BMI', 'Smoking', 'AlcoholDrinking', 'Stroke', \\\n",
    "    'PhysicalHealth', 'MentalHealth', 'DiffWalking', 'Sex', 'AgeCategory', \\\n",
    "    'PhysicalActivity', 'GenHealth', 'SleepTime', 'Asthma', 'KidneyDisease', \\\n",
    "    'SkinCancer', 'American Indian/Alaskan Native', 'Asian', 'Black', \\\n",
    "    'Hispanic', 'Other', 'White', 'No diabetes', 'Borderline diabetes', \\\n",
    "    'Has diabetes', 'Has diabetes (during pregnancy)', 'No diabetes']\n",
    "y_columns = ['HeartDisease']\n",
    "target_names = ['No Heart Disease', 'Has Heart Disease']\n",
    "\n",
    "positive_df = pki_df[pki_df['HeartDisease'] == 1]\n",
    "negative_df = pki_df[pki_df['HeartDisease'] == 0]\n",
    "\n",
    "tmp = resample(negative_df, replace=True, n_samples=int(len(negative_df) / 2), random_state=42)\n",
    "upsample = resample(positive_df, replace=True, n_samples=len(tmp), random_state=42)\n",
    "upsampled_df = pd.concat([tmp, upsample])\n",
    "upsampled_df.groupby('HeartDisease').size().plot(kind='pie', y='HeartDisease', label='Type', autopct='%1.1f%%')\n",
    "\n",
    "u_X = np.c_[upsampled_df[x_columns]]\n",
    "u_y = np.c_[upsampled_df[y_columns]]\n",
    "\n",
    "print(\"d_X shape: \", u_X.shape)\n",
    "print(\"d_y shape: \", u_y.shape)\n",
    "\n",
    "uX_train, uX_test, uy_train, uy_test = train_test_split(u_X, u_y, test_size=0.3, random_state=42)\n",
    "print(\"\\nX_train shape: \", uX_train.shape)\n",
    "print(\"X_test shape: \", uX_test.shape)\n",
    "print(\"y_train shape: \", uy_train.shape)\n",
    "print(\"y_test shape: \", uy_test.shape)"
   ]
  },
  {
   "cell_type": "markdown",
   "metadata": {},
   "source": [
    "## Training the MLP Classifier"
   ]
  }
 ],
 "metadata": {
  "interpreter": {
   "hash": "bb4828e1f19ce6c69818ac3b8c1b6b1b26241c61c52889593341273a8bccc166"
  },
  "kernelspec": {
   "display_name": "Python 3.9.7 ('base')",
   "language": "python",
   "name": "python3"
  },
  "language_info": {
   "codemirror_mode": {
    "name": "ipython",
    "version": 3
   },
   "file_extension": ".py",
   "mimetype": "text/x-python",
   "name": "python",
   "nbconvert_exporter": "python",
   "pygments_lexer": "ipython3",
   "version": "3.9.7"
  },
  "orig_nbformat": 4
 },
 "nbformat": 4,
 "nbformat_minor": 2
}
