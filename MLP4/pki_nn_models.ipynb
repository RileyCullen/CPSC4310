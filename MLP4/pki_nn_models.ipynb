{
 "cells": [
  {
   "cell_type": "markdown",
   "metadata": {},
   "source": [
    "# pki_nn_models.ipynb\n",
    "The purpose of this file is to a neural network model based on the pki dataset. Since the pki dataset is imbalanced, upsampling will be performed frist followed by the model training "
   ]
  },
  {
   "cell_type": "markdown",
   "metadata": {},
   "source": [
    "## Upsampling the data"
   ]
  },
  {
   "cell_type": "code",
   "execution_count": 1,
   "metadata": {},
   "outputs": [
    {
     "name": "stdout",
     "output_type": "stream",
     "text": [
      "d_X shape:  (292422, 26)\n",
      "d_y shape:  (292422, 1)\n",
      "\n",
      "X_train shape:  (204695, 26)\n",
      "X_test shape:  (87727, 26)\n",
      "y_train shape:  (204695, 1)\n",
      "y_test shape:  (87727, 1)\n"
     ]
    },
    {
     "data": {
      "image/png": "[encoded data removed]",
      "text/plain": [
       "<Figure size 432x288 with 1 Axes>"
      ]
     },
     "metadata": {},
     "output_type": "display_data"
    }
   ],
   "source": [
    "import pandas as pd\n",
    "import numpy as np\n",
    "from sklearn.utils import resample\n",
    "from sklearn.model_selection import train_test_split\n",
    "\n",
    "pki_df = pd.read_csv(\"../MLP2/input/heart_2020_normalized.csv\")\n",
    "x_columns = ['BMI', 'Smoking', 'AlcoholDrinking', 'Stroke', \\\n",
    "    'PhysicalHealth', 'MentalHealth', 'DiffWalking', 'Sex', 'AgeCategory', \\\n",
    "    'PhysicalActivity', 'GenHealth', 'SleepTime', 'Asthma', 'KidneyDisease', \\\n",
    "    'SkinCancer', 'American Indian/Alaskan Native', 'Asian', 'Black', \\\n",
    "    'Hispanic', 'Other', 'White', 'No diabetes', 'Borderline diabetes', \\\n",
    "    'Has diabetes', 'Has diabetes (during pregnancy)', 'No diabetes']\n",
    "y_columns = ['HeartDisease']\n",
    "target_names = ['No Heart Disease', 'Has Heart Disease']\n",
    "\n",
    "positive_df = pki_df[pki_df['HeartDisease'] == 1]\n",
    "negative_df = pki_df[pki_df['HeartDisease'] == 0]\n",
    "\n",
    "tmp = resample(negative_df, replace=True, n_samples=int(len(negative_df) / 2), random_state=42)\n",
    "upsample = resample(positive_df, replace=True, n_samples=len(tmp), random_state=42)\n",
    "upsampled_df = pd.concat([tmp, upsample])\n",
    "upsampled_df.groupby('HeartDisease').size().plot(kind='pie', y='HeartDisease', label='Type', autopct='%1.1f%%')\n",
    "\n",
    "u_X = np.c_[upsampled_df[x_columns]]\n",
    "u_y = np.c_[upsampled_df[y_columns]]\n",
    "\n",
    "print(\"d_X shape: \", u_X.shape)\n",
    "print(\"d_y shape: \", u_y.shape)\n",
    "\n",
    "uX_train, uX_test, uy_train, uy_test = train_test_split(u_X, u_y, test_size=0.3, random_state=42)\n",
    "print(\"\\nX_train shape: \", uX_train.shape)\n",
    "print(\"X_test shape: \", uX_test.shape)\n",
    "print(\"y_train shape: \", uy_train.shape)\n",
    "print(\"y_test shape: \", uy_test.shape)"
   ]
  },
  {
   "cell_type": "markdown",
   "metadata": {},
   "source": [
    "## Training the MLP Classifier"
   ]
  },
  {
   "cell_type": "code",
   "execution_count": 4,
   "metadata": {},
   "outputs": [],
   "source": [
    "from dataclasses import dataclass\n",
    "\n",
    "@dataclass\n",
    "class MetricContainer:\n",
    "    name: str\n",
    "    precision: float = 0\n",
    "    recall: float = 0\n",
    "    f1_score: float = 0\n",
    "\n",
    "def average_classification_report(arr: list):\n",
    "    no_hd = MetricContainer('No Heart Disease')\n",
    "    has_hd = MetricContainer('Has Heart Disease')\n",
    "\n",
    "    for elem in arr:\n",
    "        no_hd.precision += elem['No Heart Disease']['precision']\n",
    "        no_hd.recall += elem['No Heart Disease']['recall']\n",
    "        no_hd.f1_score += elem['No Heart Disease']['f1-score']\n",
    "\n",
    "        has_hd.precision += elem['Has Heart Disease']['precision']\n",
    "        has_hd.recall += elem['Has Heart Disease']['recall']\n",
    "        has_hd.f1_score += elem['Has Heart Disease']['f1-score']   \n",
    "\n",
    "    size = len(arr)\n",
    "    no_hd.precision /= size\n",
    "    no_hd.recall /= size\n",
    "    no_hd.f1_score /= size\n",
    "\n",
    "    has_hd.precision /= size\n",
    "    has_hd.recall /= size\n",
    "    has_hd.f1_score /= size\n",
    "\n",
    "    print(no_hd)\n",
    "    print(has_hd)\n",
    "\n",
    "    return has_hd.recall\n",
    "    \n",
    "def find_optimal_value(values: list, report: list) -> int:\n",
    "    optimal_value = values[0]\n",
    "    recall = report[0]\n",
    "\n",
    "    for idx, val in enumerate(values[0:]):\n",
    "        if (report[idx] > recall):\n",
    "            optimal_value = val\n",
    "            recall = report[idx]\n",
    "    return optimal_value"
   ]
  },
  {
   "cell_type": "code",
   "execution_count": 3,
   "metadata": {},
   "outputs": [],
   "source": [
    "from sklearn.model_selection import KFold\n",
    "\n",
    "kf = KFold(n_splits=10, random_state=None, shuffle=True)"
   ]
  },
  {
   "cell_type": "code",
   "execution_count": 5,
   "metadata": {},
   "outputs": [
    {
     "name": "stderr",
     "output_type": "stream",
     "text": [
      "c:\\Users\\Mason\\AppData\\Local\\Programs\\Python\\Python310\\lib\\site-packages\\sklearn\\neural_network\\_multilayer_perceptron.py:692: ConvergenceWarning: Stochastic Optimizer: Maximum iterations (100) reached and the optimization hasn't converged yet.\n",
      "  warnings.warn(\n",
      "c:\\Users\\Mason\\AppData\\Local\\Programs\\Python\\Python310\\lib\\site-packages\\sklearn\\neural_network\\_multilayer_perceptron.py:692: ConvergenceWarning: Stochastic Optimizer: Maximum iterations (100) reached and the optimization hasn't converged yet.\n",
      "  warnings.warn(\n",
      "c:\\Users\\Mason\\AppData\\Local\\Programs\\Python\\Python310\\lib\\site-packages\\sklearn\\neural_network\\_multilayer_perceptron.py:692: ConvergenceWarning: Stochastic Optimizer: Maximum iterations (100) reached and the optimization hasn't converged yet.\n",
      "  warnings.warn(\n",
      "c:\\Users\\Mason\\AppData\\Local\\Programs\\Python\\Python310\\lib\\site-packages\\sklearn\\neural_network\\_multilayer_perceptron.py:692: ConvergenceWarning: Stochastic Optimizer: Maximum iterations (100) reached and the optimization hasn't converged yet.\n",
      "  warnings.warn(\n",
      "c:\\Users\\Mason\\AppData\\Local\\Programs\\Python\\Python310\\lib\\site-packages\\sklearn\\neural_network\\_multilayer_perceptron.py:692: ConvergenceWarning: Stochastic Optimizer: Maximum iterations (100) reached and the optimization hasn't converged yet.\n",
      "  warnings.warn(\n",
      "c:\\Users\\Mason\\AppData\\Local\\Programs\\Python\\Python310\\lib\\site-packages\\sklearn\\neural_network\\_multilayer_perceptron.py:692: ConvergenceWarning: Stochastic Optimizer: Maximum iterations (100) reached and the optimization hasn't converged yet.\n",
      "  warnings.warn(\n",
      "c:\\Users\\Mason\\AppData\\Local\\Programs\\Python\\Python310\\lib\\site-packages\\sklearn\\neural_network\\_multilayer_perceptron.py:692: ConvergenceWarning: Stochastic Optimizer: Maximum iterations (100) reached and the optimization hasn't converged yet.\n",
      "  warnings.warn(\n",
      "c:\\Users\\Mason\\AppData\\Local\\Programs\\Python\\Python310\\lib\\site-packages\\sklearn\\neural_network\\_multilayer_perceptron.py:692: ConvergenceWarning: Stochastic Optimizer: Maximum iterations (100) reached and the optimization hasn't converged yet.\n",
      "  warnings.warn(\n",
      "c:\\Users\\Mason\\AppData\\Local\\Programs\\Python\\Python310\\lib\\site-packages\\sklearn\\neural_network\\_multilayer_perceptron.py:692: ConvergenceWarning: Stochastic Optimizer: Maximum iterations (100) reached and the optimization hasn't converged yet.\n",
      "  warnings.warn(\n",
      "c:\\Users\\Mason\\AppData\\Local\\Programs\\Python\\Python310\\lib\\site-packages\\sklearn\\neural_network\\_multilayer_perceptron.py:692: ConvergenceWarning: Stochastic Optimizer: Maximum iterations (100) reached and the optimization hasn't converged yet.\n",
      "  warnings.warn(\n"
     ]
    },
    {
     "name": "stdout",
     "output_type": "stream",
     "text": [
      "Average report at iter =  100\n",
      "MetricContainer(name='No Heart Disease', precision=0.7998147978226118, recall=0.7259069444933106, f1_score=0.7608994678309596)\n",
      "MetricContainer(name='Has Heart Disease', precision=0.7483131897476368, recall=0.8172884248752776, f1_score=0.7811501636224751)\n"
     ]
    }
   ],
   "source": [
    "from sklearn.neural_network import MLPClassifier\n",
    "from sklearn.metrics import confusion_matrix\n",
    "from sklearn.metrics import classification_report\n",
    "\n",
    "iter_values = [100, 500, 1000]\n",
    "iter_report = []\n",
    "\n",
    "for iter in iter_values:\n",
    "    clf = MLPClassifier(max_iter=iter, random_state=42)\n",
    "    report = []\n",
    "    for train_id, test_id in kf.split(uX_train):\n",
    "        \n",
    "        X_train_kf, X_test_kf = uX_train[train_id], uX_train[test_id]\n",
    "        y_train_kf, y_test_kf = uy_train[train_id], uy_train[test_id]\n",
    "\n",
    "        clf.fit(X_train_kf, y_train_kf.ravel())\n",
    "\n",
    "        y_pred = clf.predict(X_test_kf)\n",
    "\n",
    "        report.append(classification_report(y_test_kf, y_pred, target_names=target_names, output_dict=True))\n",
    "    print(\"Average report at iter = \", iter)\n",
    "    iter_report.append(average_classification_report(report))\n",
    "\n",
    "optimal_iter_MLP = find_optimal_value(iter_values, iter_report)\n",
    "print(optimal_iter_MLP)\n"
   ]
  },
  {
   "cell_type": "code",
   "execution_count": null,
   "metadata": {},
   "outputs": [],
   "source": []
  }
 ],
 "metadata": {
  "interpreter": {
   "hash": "48063b7e241fbf87dd076a3cdfc153184b508bc49b1e044419203edb7489196a"
  },
  "kernelspec": {
   "display_name": "Python 3.10.2 64-bit",
   "language": "python",
   "name": "python3"
  },
  "language_info": {
   "codemirror_mode": {
    "name": "ipython",
    "version": 3
   },
   "file_extension": ".py",
   "mimetype": "text/x-python",
   "name": "python",
   "nbconvert_exporter": "python",
   "pygments_lexer": "ipython3",
   "version": "3.10.2"
  },
  "orig_nbformat": 4
 },
 "nbformat": 4,
 "nbformat_minor": 2
}
