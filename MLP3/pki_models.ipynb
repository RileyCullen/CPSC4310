{
 "cells": [
  {
   "cell_type": "markdown",
   "metadata": {},
   "source": [
    "# pki_models.ipynb\n",
    "\n",
    "The purpose of this file is to create a logistic regression and support vector machine model based on the normalized PKI dataset found in MLP2.\n",
    "\n",
    "## Authors\n",
    "1. Riley Cullen\n",
    "2. Mason Adsero"
   ]
  },
  {
   "cell_type": "markdown",
   "metadata": {},
   "source": [
    "## Data"
   ]
  },
  {
   "cell_type": "code",
   "execution_count": 37,
   "metadata": {},
   "outputs": [
    {
     "name": "stdout",
     "output_type": "stream",
     "text": [
      "X shape:  (319795, 26)\n",
      "y shape:  (319795, 1)\n",
      "X_train shape:  (223856, 26)\n",
      "X_test shape:  (95939, 26)\n",
      "y_train shape:  (223856, 1)\n",
      "y_test shape:  (95939, 1)\n"
     ]
    }
   ],
   "source": [
    "import pandas as pd\n",
    "import numpy as np\n",
    "from sklearn.model_selection import train_test_split\n",
    "\n",
    "pki_df = pd.read_csv(\"../MLP2/input/heart_2020_normalized.csv\")\n",
    "X = np.c_[pki_df[['BMI', 'Smoking', 'AlcoholDrinking', 'Stroke', \\\n",
    "    'PhysicalHealth', 'MentalHealth', 'DiffWalking', 'Sex', 'AgeCategory', \\\n",
    "    'PhysicalActivity', 'GenHealth', 'SleepTime', 'Asthma', 'KidneyDisease', \\\n",
    "    'SkinCancer', 'American Indian/Alaskan Native', 'Asian', 'Black', \\\n",
    "    'Hispanic', 'Other', 'White', 'No diabetes', 'Borderline diabetes', \\\n",
    "    'Has diabetes', 'Has diabetes (during pregnancy)', 'No diabetes']]]\n",
    "y = np.c_[pki_df['HeartDisease']]\n",
    "\n",
    "target_names = ['No Heart Disease', 'Has Heart Disease']\n",
    "\n",
    "print(\"X shape: \", X.shape)\n",
    "print(\"y shape: \", y.shape)\n",
    "\n",
    "X_train, X_test, y_train, y_test = train_test_split(X, y, test_size=0.3, random_state=0)\n",
    "\n",
    "print(\"X_train shape: \", X_train.shape)\n",
    "print(\"X_test shape: \", X_test.shape)\n",
    "print(\"y_train shape: \", y_train.shape)\n",
    "print(\"y_test shape: \", y_test.shape)"
   ]
  },
  {
   "cell_type": "markdown",
   "metadata": {},
   "source": [
    "## Logistic Regression Model"
   ]
  },
  {
   "cell_type": "markdown",
   "metadata": {},
   "source": [
    "### Train model using 10-fold cross validation"
   ]
  },
  {
   "cell_type": "code",
   "execution_count": 54,
   "metadata": {},
   "outputs": [
    {
     "name": "stderr",
     "output_type": "stream",
     "text": [
      "/Users/rileycullen/opt/anaconda3/lib/python3.9/site-packages/sklearn/linear_model/_logistic.py:763: ConvergenceWarning: lbfgs failed to converge (status=1):\n",
      "STOP: TOTAL NO. of ITERATIONS REACHED LIMIT.\n",
      "\n",
      "Increase the number of iterations (max_iter) or scale the data as shown in:\n",
      "    https://scikit-learn.org/stable/modules/preprocessing.html\n",
      "Please also refer to the documentation for alternative solver options:\n",
      "    https://scikit-learn.org/stable/modules/linear_model.html#logistic-regression\n",
      "  n_iter_i = _check_optimize_result(\n"
     ]
    },
    {
     "name": "stdout",
     "output_type": "stream",
     "text": [
      "                   precision    recall  f1-score   support\n",
      "\n",
      " No Heart Disease       0.92      0.99      0.96     20470\n",
      "Has Heart Disease       0.56      0.11      0.19      1916\n",
      "\n",
      "         accuracy                           0.92     22386\n",
      "        macro avg       0.74      0.55      0.57     22386\n",
      "     weighted avg       0.89      0.92      0.89     22386\n",
      "\n",
      "                   precision    recall  f1-score   support\n",
      "\n",
      " No Heart Disease       0.92      0.99      0.96     20470\n",
      "Has Heart Disease       0.56      0.11      0.19      1916\n",
      "\n",
      "         accuracy                           0.92     22386\n",
      "        macro avg       0.74      0.55      0.57     22386\n",
      "     weighted avg       0.89      0.92      0.89     22386\n",
      "\n",
      "                   precision    recall  f1-score   support\n",
      "\n",
      " No Heart Disease       0.92      0.99      0.96     20470\n",
      "Has Heart Disease       0.56      0.11      0.19      1916\n",
      "\n",
      "         accuracy                           0.92     22386\n",
      "        macro avg       0.74      0.55      0.57     22386\n",
      "     weighted avg       0.89      0.92      0.89     22386\n",
      "\n"
     ]
    },
    {
     "name": "stderr",
     "output_type": "stream",
     "text": [
      "/Users/rileycullen/opt/anaconda3/lib/python3.9/site-packages/sklearn/linear_model/_logistic.py:763: ConvergenceWarning: lbfgs failed to converge (status=1):\n",
      "STOP: TOTAL NO. of ITERATIONS REACHED LIMIT.\n",
      "\n",
      "Increase the number of iterations (max_iter) or scale the data as shown in:\n",
      "    https://scikit-learn.org/stable/modules/preprocessing.html\n",
      "Please also refer to the documentation for alternative solver options:\n",
      "    https://scikit-learn.org/stable/modules/linear_model.html#logistic-regression\n",
      "  n_iter_i = _check_optimize_result(\n"
     ]
    },
    {
     "name": "stdout",
     "output_type": "stream",
     "text": [
      "                   precision    recall  f1-score   support\n",
      "\n",
      " No Heart Disease       0.92      0.99      0.96     20465\n",
      "Has Heart Disease       0.55      0.11      0.18      1921\n",
      "\n",
      "         accuracy                           0.92     22386\n",
      "        macro avg       0.73      0.55      0.57     22386\n",
      "     weighted avg       0.89      0.92      0.89     22386\n",
      "\n",
      "                   precision    recall  f1-score   support\n",
      "\n",
      " No Heart Disease       0.92      0.99      0.96     20465\n",
      "Has Heart Disease       0.54      0.10      0.18      1921\n",
      "\n",
      "         accuracy                           0.92     22386\n",
      "        macro avg       0.73      0.55      0.57     22386\n",
      "     weighted avg       0.89      0.92      0.89     22386\n",
      "\n",
      "                   precision    recall  f1-score   support\n",
      "\n",
      " No Heart Disease       0.92      0.99      0.96     20465\n",
      "Has Heart Disease       0.54      0.10      0.18      1921\n",
      "\n",
      "         accuracy                           0.92     22386\n",
      "        macro avg       0.73      0.55      0.57     22386\n",
      "     weighted avg       0.89      0.92      0.89     22386\n",
      "\n"
     ]
    },
    {
     "name": "stderr",
     "output_type": "stream",
     "text": [
      "/Users/rileycullen/opt/anaconda3/lib/python3.9/site-packages/sklearn/linear_model/_logistic.py:763: ConvergenceWarning: lbfgs failed to converge (status=1):\n",
      "STOP: TOTAL NO. of ITERATIONS REACHED LIMIT.\n",
      "\n",
      "Increase the number of iterations (max_iter) or scale the data as shown in:\n",
      "    https://scikit-learn.org/stable/modules/preprocessing.html\n",
      "Please also refer to the documentation for alternative solver options:\n",
      "    https://scikit-learn.org/stable/modules/linear_model.html#logistic-regression\n",
      "  n_iter_i = _check_optimize_result(\n"
     ]
    },
    {
     "name": "stdout",
     "output_type": "stream",
     "text": [
      "                   precision    recall  f1-score   support\n",
      "\n",
      " No Heart Disease       0.92      0.99      0.95     20490\n",
      "Has Heart Disease       0.47      0.09      0.16      1896\n",
      "\n",
      "         accuracy                           0.91     22386\n",
      "        macro avg       0.70      0.54      0.56     22386\n",
      "     weighted avg       0.88      0.91      0.89     22386\n",
      "\n",
      "                   precision    recall  f1-score   support\n",
      "\n",
      " No Heart Disease       0.92      0.99      0.95     20490\n",
      "Has Heart Disease       0.47      0.09      0.16      1896\n",
      "\n",
      "         accuracy                           0.91     22386\n",
      "        macro avg       0.70      0.54      0.56     22386\n",
      "     weighted avg       0.88      0.91      0.89     22386\n",
      "\n",
      "                   precision    recall  f1-score   support\n",
      "\n",
      " No Heart Disease       0.92      0.99      0.95     20490\n",
      "Has Heart Disease       0.47      0.09      0.16      1896\n",
      "\n",
      "         accuracy                           0.91     22386\n",
      "        macro avg       0.70      0.54      0.56     22386\n",
      "     weighted avg       0.88      0.91      0.89     22386\n",
      "\n"
     ]
    },
    {
     "name": "stderr",
     "output_type": "stream",
     "text": [
      "/Users/rileycullen/opt/anaconda3/lib/python3.9/site-packages/sklearn/linear_model/_logistic.py:763: ConvergenceWarning: lbfgs failed to converge (status=1):\n",
      "STOP: TOTAL NO. of ITERATIONS REACHED LIMIT.\n",
      "\n",
      "Increase the number of iterations (max_iter) or scale the data as shown in:\n",
      "    https://scikit-learn.org/stable/modules/preprocessing.html\n",
      "Please also refer to the documentation for alternative solver options:\n",
      "    https://scikit-learn.org/stable/modules/linear_model.html#logistic-regression\n",
      "  n_iter_i = _check_optimize_result(\n"
     ]
    },
    {
     "name": "stdout",
     "output_type": "stream",
     "text": [
      "                   precision    recall  f1-score   support\n",
      "\n",
      " No Heart Disease       0.92      0.99      0.95     20367\n",
      "Has Heart Disease       0.57      0.11      0.19      2019\n",
      "\n",
      "         accuracy                           0.91     22386\n",
      "        macro avg       0.74      0.55      0.57     22386\n",
      "     weighted avg       0.89      0.91      0.88     22386\n",
      "\n",
      "                   precision    recall  f1-score   support\n",
      "\n",
      " No Heart Disease       0.92      0.99      0.95     20367\n",
      "Has Heart Disease       0.57      0.11      0.19      2019\n",
      "\n",
      "         accuracy                           0.91     22386\n",
      "        macro avg       0.74      0.55      0.57     22386\n",
      "     weighted avg       0.89      0.91      0.88     22386\n",
      "\n",
      "                   precision    recall  f1-score   support\n",
      "\n",
      " No Heart Disease       0.92      0.99      0.95     20367\n",
      "Has Heart Disease       0.57      0.11      0.19      2019\n",
      "\n",
      "         accuracy                           0.91     22386\n",
      "        macro avg       0.74      0.55      0.57     22386\n",
      "     weighted avg       0.89      0.91      0.88     22386\n",
      "\n"
     ]
    },
    {
     "name": "stderr",
     "output_type": "stream",
     "text": [
      "/Users/rileycullen/opt/anaconda3/lib/python3.9/site-packages/sklearn/linear_model/_logistic.py:763: ConvergenceWarning: lbfgs failed to converge (status=1):\n",
      "STOP: TOTAL NO. of ITERATIONS REACHED LIMIT.\n",
      "\n",
      "Increase the number of iterations (max_iter) or scale the data as shown in:\n",
      "    https://scikit-learn.org/stable/modules/preprocessing.html\n",
      "Please also refer to the documentation for alternative solver options:\n",
      "    https://scikit-learn.org/stable/modules/linear_model.html#logistic-regression\n",
      "  n_iter_i = _check_optimize_result(\n"
     ]
    },
    {
     "name": "stdout",
     "output_type": "stream",
     "text": [
      "                   precision    recall  f1-score   support\n",
      "\n",
      " No Heart Disease       0.92      0.99      0.96     20509\n",
      "Has Heart Disease       0.55      0.11      0.19      1877\n",
      "\n",
      "         accuracy                           0.92     22386\n",
      "        macro avg       0.74      0.55      0.57     22386\n",
      "     weighted avg       0.89      0.92      0.89     22386\n",
      "\n",
      "                   precision    recall  f1-score   support\n",
      "\n",
      " No Heart Disease       0.92      0.99      0.96     20509\n",
      "Has Heart Disease       0.55      0.11      0.19      1877\n",
      "\n",
      "         accuracy                           0.92     22386\n",
      "        macro avg       0.74      0.55      0.57     22386\n",
      "     weighted avg       0.89      0.92      0.89     22386\n",
      "\n",
      "                   precision    recall  f1-score   support\n",
      "\n",
      " No Heart Disease       0.92      0.99      0.96     20509\n",
      "Has Heart Disease       0.55      0.11      0.19      1877\n",
      "\n",
      "         accuracy                           0.92     22386\n",
      "        macro avg       0.74      0.55      0.57     22386\n",
      "     weighted avg       0.89      0.92      0.89     22386\n",
      "\n"
     ]
    },
    {
     "name": "stderr",
     "output_type": "stream",
     "text": [
      "/Users/rileycullen/opt/anaconda3/lib/python3.9/site-packages/sklearn/linear_model/_logistic.py:763: ConvergenceWarning: lbfgs failed to converge (status=1):\n",
      "STOP: TOTAL NO. of ITERATIONS REACHED LIMIT.\n",
      "\n",
      "Increase the number of iterations (max_iter) or scale the data as shown in:\n",
      "    https://scikit-learn.org/stable/modules/preprocessing.html\n",
      "Please also refer to the documentation for alternative solver options:\n",
      "    https://scikit-learn.org/stable/modules/linear_model.html#logistic-regression\n",
      "  n_iter_i = _check_optimize_result(\n"
     ]
    },
    {
     "name": "stdout",
     "output_type": "stream",
     "text": [
      "                   precision    recall  f1-score   support\n",
      "\n",
      " No Heart Disease       0.92      0.99      0.95     20436\n",
      "Has Heart Disease       0.55      0.12      0.19      1950\n",
      "\n",
      "         accuracy                           0.91     22386\n",
      "        macro avg       0.73      0.55      0.57     22386\n",
      "     weighted avg       0.89      0.91      0.89     22386\n",
      "\n",
      "                   precision    recall  f1-score   support\n",
      "\n",
      " No Heart Disease       0.92      0.99      0.95     20436\n",
      "Has Heart Disease       0.55      0.12      0.19      1950\n",
      "\n",
      "         accuracy                           0.91     22386\n",
      "        macro avg       0.73      0.55      0.57     22386\n",
      "     weighted avg       0.89      0.91      0.89     22386\n",
      "\n",
      "                   precision    recall  f1-score   support\n",
      "\n",
      " No Heart Disease       0.92      0.99      0.95     20436\n",
      "Has Heart Disease       0.55      0.12      0.19      1950\n",
      "\n",
      "         accuracy                           0.91     22386\n",
      "        macro avg       0.73      0.55      0.57     22386\n",
      "     weighted avg       0.89      0.91      0.89     22386\n",
      "\n"
     ]
    },
    {
     "name": "stderr",
     "output_type": "stream",
     "text": [
      "/Users/rileycullen/opt/anaconda3/lib/python3.9/site-packages/sklearn/linear_model/_logistic.py:763: ConvergenceWarning: lbfgs failed to converge (status=1):\n",
      "STOP: TOTAL NO. of ITERATIONS REACHED LIMIT.\n",
      "\n",
      "Increase the number of iterations (max_iter) or scale the data as shown in:\n",
      "    https://scikit-learn.org/stable/modules/preprocessing.html\n",
      "Please also refer to the documentation for alternative solver options:\n",
      "    https://scikit-learn.org/stable/modules/linear_model.html#logistic-regression\n",
      "  n_iter_i = _check_optimize_result(\n"
     ]
    },
    {
     "name": "stdout",
     "output_type": "stream",
     "text": [
      "                   precision    recall  f1-score   support\n",
      "\n",
      " No Heart Disease       0.93      0.99      0.96     20566\n",
      "Has Heart Disease       0.52      0.12      0.19      1819\n",
      "\n",
      "         accuracy                           0.92     22385\n",
      "        macro avg       0.72      0.55      0.57     22385\n",
      "     weighted avg       0.89      0.92      0.90     22385\n",
      "\n",
      "                   precision    recall  f1-score   support\n",
      "\n",
      " No Heart Disease       0.93      0.99      0.96     20566\n",
      "Has Heart Disease       0.52      0.12      0.19      1819\n",
      "\n",
      "         accuracy                           0.92     22385\n",
      "        macro avg       0.72      0.55      0.57     22385\n",
      "     weighted avg       0.89      0.92      0.90     22385\n",
      "\n",
      "                   precision    recall  f1-score   support\n",
      "\n",
      " No Heart Disease       0.93      0.99      0.96     20566\n",
      "Has Heart Disease       0.52      0.12      0.19      1819\n",
      "\n",
      "         accuracy                           0.92     22385\n",
      "        macro avg       0.72      0.55      0.57     22385\n",
      "     weighted avg       0.89      0.92      0.90     22385\n",
      "\n"
     ]
    },
    {
     "name": "stderr",
     "output_type": "stream",
     "text": [
      "/Users/rileycullen/opt/anaconda3/lib/python3.9/site-packages/sklearn/linear_model/_logistic.py:763: ConvergenceWarning: lbfgs failed to converge (status=1):\n",
      "STOP: TOTAL NO. of ITERATIONS REACHED LIMIT.\n",
      "\n",
      "Increase the number of iterations (max_iter) or scale the data as shown in:\n",
      "    https://scikit-learn.org/stable/modules/preprocessing.html\n",
      "Please also refer to the documentation for alternative solver options:\n",
      "    https://scikit-learn.org/stable/modules/linear_model.html#logistic-regression\n",
      "  n_iter_i = _check_optimize_result(\n"
     ]
    },
    {
     "name": "stdout",
     "output_type": "stream",
     "text": [
      "                   precision    recall  f1-score   support\n",
      "\n",
      " No Heart Disease       0.92      0.99      0.95     20429\n",
      "Has Heart Disease       0.54      0.11      0.18      1956\n",
      "\n",
      "         accuracy                           0.91     22385\n",
      "        macro avg       0.73      0.55      0.57     22385\n",
      "     weighted avg       0.89      0.91      0.89     22385\n",
      "\n",
      "                   precision    recall  f1-score   support\n",
      "\n",
      " No Heart Disease       0.92      0.99      0.95     20429\n",
      "Has Heart Disease       0.54      0.11      0.18      1956\n",
      "\n",
      "         accuracy                           0.91     22385\n",
      "        macro avg       0.73      0.55      0.57     22385\n",
      "     weighted avg       0.89      0.91      0.89     22385\n",
      "\n",
      "                   precision    recall  f1-score   support\n",
      "\n",
      " No Heart Disease       0.92      0.99      0.95     20429\n",
      "Has Heart Disease       0.54      0.11      0.18      1956\n",
      "\n",
      "         accuracy                           0.91     22385\n",
      "        macro avg       0.73      0.55      0.57     22385\n",
      "     weighted avg       0.89      0.91      0.89     22385\n",
      "\n"
     ]
    },
    {
     "name": "stderr",
     "output_type": "stream",
     "text": [
      "/Users/rileycullen/opt/anaconda3/lib/python3.9/site-packages/sklearn/linear_model/_logistic.py:763: ConvergenceWarning: lbfgs failed to converge (status=1):\n",
      "STOP: TOTAL NO. of ITERATIONS REACHED LIMIT.\n",
      "\n",
      "Increase the number of iterations (max_iter) or scale the data as shown in:\n",
      "    https://scikit-learn.org/stable/modules/preprocessing.html\n",
      "Please also refer to the documentation for alternative solver options:\n",
      "    https://scikit-learn.org/stable/modules/linear_model.html#logistic-regression\n",
      "  n_iter_i = _check_optimize_result(\n"
     ]
    },
    {
     "name": "stdout",
     "output_type": "stream",
     "text": [
      "                   precision    recall  f1-score   support\n",
      "\n",
      " No Heart Disease       0.92      0.99      0.96     20487\n",
      "Has Heart Disease       0.55      0.11      0.18      1898\n",
      "\n",
      "         accuracy                           0.92     22385\n",
      "        macro avg       0.74      0.55      0.57     22385\n",
      "     weighted avg       0.89      0.92      0.89     22385\n",
      "\n",
      "                   precision    recall  f1-score   support\n",
      "\n",
      " No Heart Disease       0.92      0.99      0.96     20487\n",
      "Has Heart Disease       0.55      0.11      0.19      1898\n",
      "\n",
      "         accuracy                           0.92     22385\n",
      "        macro avg       0.74      0.55      0.57     22385\n",
      "     weighted avg       0.89      0.92      0.89     22385\n",
      "\n",
      "                   precision    recall  f1-score   support\n",
      "\n",
      " No Heart Disease       0.92      0.99      0.96     20487\n",
      "Has Heart Disease       0.55      0.11      0.19      1898\n",
      "\n",
      "         accuracy                           0.92     22385\n",
      "        macro avg       0.74      0.55      0.57     22385\n",
      "     weighted avg       0.89      0.92      0.89     22385\n",
      "\n"
     ]
    },
    {
     "name": "stderr",
     "output_type": "stream",
     "text": [
      "/Users/rileycullen/opt/anaconda3/lib/python3.9/site-packages/sklearn/linear_model/_logistic.py:763: ConvergenceWarning: lbfgs failed to converge (status=1):\n",
      "STOP: TOTAL NO. of ITERATIONS REACHED LIMIT.\n",
      "\n",
      "Increase the number of iterations (max_iter) or scale the data as shown in:\n",
      "    https://scikit-learn.org/stable/modules/preprocessing.html\n",
      "Please also refer to the documentation for alternative solver options:\n",
      "    https://scikit-learn.org/stable/modules/linear_model.html#logistic-regression\n",
      "  n_iter_i = _check_optimize_result(\n"
     ]
    },
    {
     "name": "stdout",
     "output_type": "stream",
     "text": [
      "                   precision    recall  f1-score   support\n",
      "\n",
      " No Heart Disease       0.92      0.99      0.96     20473\n",
      "Has Heart Disease       0.55      0.11      0.19      1912\n",
      "\n",
      "         accuracy                           0.92     22385\n",
      "        macro avg       0.73      0.55      0.57     22385\n",
      "     weighted avg       0.89      0.92      0.89     22385\n",
      "\n",
      "                   precision    recall  f1-score   support\n",
      "\n",
      " No Heart Disease       0.92      0.99      0.96     20473\n",
      "Has Heart Disease       0.55      0.11      0.19      1912\n",
      "\n",
      "         accuracy                           0.92     22385\n",
      "        macro avg       0.73      0.55      0.57     22385\n",
      "     weighted avg       0.89      0.92      0.89     22385\n",
      "\n",
      "                   precision    recall  f1-score   support\n",
      "\n",
      " No Heart Disease       0.92      0.99      0.96     20473\n",
      "Has Heart Disease       0.55      0.11      0.19      1912\n",
      "\n",
      "         accuracy                           0.92     22385\n",
      "        macro avg       0.73      0.55      0.57     22385\n",
      "     weighted avg       0.89      0.92      0.89     22385\n",
      "\n"
     ]
    }
   ],
   "source": [
    "from sklearn.linear_model import LogisticRegression\n",
    "from sklearn.model_selection import KFold\n",
    "from sklearn.metrics import confusion_matrix\n",
    "from sklearn.metrics import classification_report\n",
    "\n",
    "kf = KFold(n_splits=10, random_state=None, shuffle=True)\n",
    "\n",
    "logreg = LogisticRegression()\n",
    "\n",
    "for train_id, test_id in kf.split(X_train):\n",
    "    \n",
    "    X_train_kf, X_test_kf = X_train[train_id], X_train[test_id]\n",
    "    y_train_kf, y_test_kf = y_train[train_id], y_train[test_id]\n",
    "\n",
    "    logreg.fit(X_train_kf, y_train_kf.ravel())\n",
    "\n",
    "    y_pred = logreg.predict(X_test_kf)\n",
    "    \n",
    "    confusion_mat = confusion_matrix(y_test_kf, y_pred)\n",
    "\n",
    "    print(classification_report(y_test_kf, y_pred, target_names=target_names))\n"
   ]
  },
  {
   "cell_type": "markdown",
   "metadata": {},
   "source": [
    "### Evaluation on test data"
   ]
  },
  {
   "cell_type": "code",
   "execution_count": 51,
   "metadata": {},
   "outputs": [
    {
     "name": "stdout",
     "output_type": "stream",
     "text": [
      "[[  866  7343]\n",
      " [  767 86963]] \n",
      "\n",
      "\n",
      "                   precision    recall  f1-score   support\n",
      "\n",
      " No Heart Disease       0.92      0.99      0.96     87730\n",
      "Has Heart Disease       0.53      0.11      0.18      8209\n",
      "\n",
      "         accuracy                           0.92     95939\n",
      "        macro avg       0.73      0.55      0.57     95939\n",
      "     weighted avg       0.89      0.92      0.89     95939\n",
      "\n"
     ]
    }
   ],
   "source": [
    "y_pred = logreg.predict(X_test)\n",
    "confusion_mat = confusion_matrix(y_test, y_pred, labels=[1, 0])\n",
    "print(confusion_mat, \"\\n\\n\")\n",
    "\n",
    "print(classification_report(y_test, y_pred, target_names=target_names))"
   ]
  },
  {
   "cell_type": "code",
   "execution_count": 52,
   "metadata": {},
   "outputs": [
    {
     "name": "stdout",
     "output_type": "stream",
     "text": [
      "Accuracy =  0.8399651976531224\n"
     ]
    },
    {
     "data": {
      "image/png": "[encoded data removed]",
      "text/plain": [
       "<Figure size 432x288 with 1 Axes>"
      ]
     },
     "metadata": {
      "needs_background": "light"
     },
     "output_type": "display_data"
    }
   ],
   "source": [
    "from sklearn.metrics import roc_curve, auc\n",
    "import matplotlib.pyplot as plt\n",
    "y_score = logreg.predict_proba(X_test)\n",
    "\n",
    "false_positive_rate, true_positive_rate, thresholds = roc_curve(y_test, y_score[:,1])\n",
    "\n",
    "roc_auc = auc(false_positive_rate, true_positive_rate)\n",
    "\n",
    "print('Accuracy = ', roc_auc)\n",
    "\n",
    "# Plotting\n",
    "plt.title('ROC')\n",
    "plt.plot(false_positive_rate, true_positive_rate, label=('Accuracy = %0.2f'%roc_auc))\n",
    "plt.legend(loc='lower right', prop={'size':8})\n",
    "plt.plot([0,1],[0,1], color='lightgrey', linestyle='--')\n",
    "plt.xlim([-0.05,1.0])\n",
    "plt.ylim([0.0,1.05])\n",
    "plt.ylabel('True Positive Rate')\n",
    "plt.xlabel('False Positive Rate')\n",
    "plt.show()"
   ]
  },
  {
   "cell_type": "markdown",
   "metadata": {},
   "source": [
    "## Support Vector Machine"
   ]
  },
  {
   "cell_type": "markdown",
   "metadata": {},
   "source": [
    "### Train and Validate Model"
   ]
  },
  {
   "cell_type": "code",
   "execution_count": 42,
   "metadata": {},
   "outputs": [
    {
     "name": "stderr",
     "output_type": "stream",
     "text": [
      "/Users/rileycullen/opt/anaconda3/lib/python3.9/site-packages/sklearn/utils/validation.py:63: DataConversionWarning: A column-vector y was passed when a 1d array was expected. Please change the shape of y to (n_samples, ), for example using ravel().\n",
      "  return f(*args, **kwargs)\n"
     ]
    },
    {
     "name": "stdout",
     "output_type": "stream",
     "text": [
      "                   precision    recall  f1-score   support\n",
      "\n",
      " No Heart Disease       0.92      1.00      0.95     20424\n",
      "Has Heart Disease       0.67      0.04      0.07      1962\n",
      "\n",
      "         accuracy                           0.91     22386\n",
      "        macro avg       0.79      0.52      0.51     22386\n",
      "     weighted avg       0.89      0.91      0.88     22386\n",
      "\n"
     ]
    },
    {
     "name": "stderr",
     "output_type": "stream",
     "text": [
      "/Users/rileycullen/opt/anaconda3/lib/python3.9/site-packages/sklearn/utils/validation.py:63: DataConversionWarning: A column-vector y was passed when a 1d array was expected. Please change the shape of y to (n_samples, ), for example using ravel().\n",
      "  return f(*args, **kwargs)\n"
     ]
    },
    {
     "name": "stdout",
     "output_type": "stream",
     "text": [
      "                   precision    recall  f1-score   support\n",
      "\n",
      " No Heart Disease       0.92      1.00      0.96     20457\n",
      "Has Heart Disease       0.65      0.04      0.08      1929\n",
      "\n",
      "         accuracy                           0.92     22386\n",
      "        macro avg       0.79      0.52      0.52     22386\n",
      "     weighted avg       0.89      0.92      0.88     22386\n",
      "\n"
     ]
    },
    {
     "name": "stderr",
     "output_type": "stream",
     "text": [
      "/Users/rileycullen/opt/anaconda3/lib/python3.9/site-packages/sklearn/utils/validation.py:63: DataConversionWarning: A column-vector y was passed when a 1d array was expected. Please change the shape of y to (n_samples, ), for example using ravel().\n",
      "  return f(*args, **kwargs)\n"
     ]
    },
    {
     "name": "stdout",
     "output_type": "stream",
     "text": [
      "                   precision    recall  f1-score   support\n",
      "\n",
      " No Heart Disease       0.92      1.00      0.96     20491\n",
      "Has Heart Disease       0.68      0.04      0.08      1895\n",
      "\n",
      "         accuracy                           0.92     22386\n",
      "        macro avg       0.80      0.52      0.52     22386\n",
      "     weighted avg       0.90      0.92      0.88     22386\n",
      "\n"
     ]
    },
    {
     "name": "stderr",
     "output_type": "stream",
     "text": [
      "/Users/rileycullen/opt/anaconda3/lib/python3.9/site-packages/sklearn/utils/validation.py:63: DataConversionWarning: A column-vector y was passed when a 1d array was expected. Please change the shape of y to (n_samples, ), for example using ravel().\n",
      "  return f(*args, **kwargs)\n"
     ]
    },
    {
     "name": "stdout",
     "output_type": "stream",
     "text": [
      "                   precision    recall  f1-score   support\n",
      "\n",
      " No Heart Disease       0.92      1.00      0.96     20446\n",
      "Has Heart Disease       0.62      0.04      0.07      1940\n",
      "\n",
      "         accuracy                           0.91     22386\n",
      "        macro avg       0.77      0.52      0.51     22386\n",
      "     weighted avg       0.89      0.91      0.88     22386\n",
      "\n"
     ]
    },
    {
     "name": "stderr",
     "output_type": "stream",
     "text": [
      "/Users/rileycullen/opt/anaconda3/lib/python3.9/site-packages/sklearn/utils/validation.py:63: DataConversionWarning: A column-vector y was passed when a 1d array was expected. Please change the shape of y to (n_samples, ), for example using ravel().\n",
      "  return f(*args, **kwargs)\n"
     ]
    },
    {
     "name": "stdout",
     "output_type": "stream",
     "text": [
      "                   precision    recall  f1-score   support\n",
      "\n",
      " No Heart Disease       0.92      1.00      0.96     20481\n",
      "Has Heart Disease       0.62      0.04      0.07      1905\n",
      "\n",
      "         accuracy                           0.92     22386\n",
      "        macro avg       0.77      0.52      0.51     22386\n",
      "     weighted avg       0.89      0.92      0.88     22386\n",
      "\n"
     ]
    },
    {
     "name": "stderr",
     "output_type": "stream",
     "text": [
      "/Users/rileycullen/opt/anaconda3/lib/python3.9/site-packages/sklearn/utils/validation.py:63: DataConversionWarning: A column-vector y was passed when a 1d array was expected. Please change the shape of y to (n_samples, ), for example using ravel().\n",
      "  return f(*args, **kwargs)\n"
     ]
    },
    {
     "name": "stdout",
     "output_type": "stream",
     "text": [
      "                   precision    recall  f1-score   support\n",
      "\n",
      " No Heart Disease       0.92      1.00      0.96     20526\n",
      "Has Heart Disease       0.55      0.03      0.07      1860\n",
      "\n",
      "         accuracy                           0.92     22386\n",
      "        macro avg       0.73      0.52      0.51     22386\n",
      "     weighted avg       0.89      0.92      0.88     22386\n",
      "\n"
     ]
    },
    {
     "name": "stderr",
     "output_type": "stream",
     "text": [
      "/Users/rileycullen/opt/anaconda3/lib/python3.9/site-packages/sklearn/utils/validation.py:63: DataConversionWarning: A column-vector y was passed when a 1d array was expected. Please change the shape of y to (n_samples, ), for example using ravel().\n",
      "  return f(*args, **kwargs)\n"
     ]
    },
    {
     "name": "stdout",
     "output_type": "stream",
     "text": [
      "                   precision    recall  f1-score   support\n",
      "\n",
      " No Heart Disease       0.92      1.00      0.95     20418\n",
      "Has Heart Disease       0.67      0.04      0.08      1967\n",
      "\n",
      "         accuracy                           0.91     22385\n",
      "        macro avg       0.79      0.52      0.52     22385\n",
      "     weighted avg       0.89      0.91      0.88     22385\n",
      "\n"
     ]
    },
    {
     "name": "stderr",
     "output_type": "stream",
     "text": [
      "/Users/rileycullen/opt/anaconda3/lib/python3.9/site-packages/sklearn/utils/validation.py:63: DataConversionWarning: A column-vector y was passed when a 1d array was expected. Please change the shape of y to (n_samples, ), for example using ravel().\n",
      "  return f(*args, **kwargs)\n"
     ]
    },
    {
     "name": "stdout",
     "output_type": "stream",
     "text": [
      "                   precision    recall  f1-score   support\n",
      "\n",
      " No Heart Disease       0.92      1.00      0.96     20494\n",
      "Has Heart Disease       0.65      0.04      0.07      1891\n",
      "\n",
      "         accuracy                           0.92     22385\n",
      "        macro avg       0.78      0.52      0.52     22385\n",
      "     weighted avg       0.90      0.92      0.88     22385\n",
      "\n"
     ]
    },
    {
     "name": "stderr",
     "output_type": "stream",
     "text": [
      "/Users/rileycullen/opt/anaconda3/lib/python3.9/site-packages/sklearn/utils/validation.py:63: DataConversionWarning: A column-vector y was passed when a 1d array was expected. Please change the shape of y to (n_samples, ), for example using ravel().\n",
      "  return f(*args, **kwargs)\n"
     ]
    },
    {
     "name": "stdout",
     "output_type": "stream",
     "text": [
      "                   precision    recall  f1-score   support\n",
      "\n",
      " No Heart Disease       0.92      1.00      0.96     20490\n",
      "Has Heart Disease       0.56      0.04      0.07      1895\n",
      "\n",
      "         accuracy                           0.92     22385\n",
      "        macro avg       0.74      0.52      0.51     22385\n",
      "     weighted avg       0.89      0.92      0.88     22385\n",
      "\n"
     ]
    },
    {
     "name": "stderr",
     "output_type": "stream",
     "text": [
      "/Users/rileycullen/opt/anaconda3/lib/python3.9/site-packages/sklearn/utils/validation.py:63: DataConversionWarning: A column-vector y was passed when a 1d array was expected. Please change the shape of y to (n_samples, ), for example using ravel().\n",
      "  return f(*args, **kwargs)\n"
     ]
    },
    {
     "name": "stdout",
     "output_type": "stream",
     "text": [
      "                   precision    recall  f1-score   support\n",
      "\n",
      " No Heart Disease       0.92      1.00      0.96     20465\n",
      "Has Heart Disease       0.54      0.03      0.06      1920\n",
      "\n",
      "         accuracy                           0.91     22385\n",
      "        macro avg       0.73      0.51      0.51     22385\n",
      "     weighted avg       0.88      0.91      0.88     22385\n",
      "\n"
     ]
    }
   ],
   "source": [
    "from sklearn.svm import LinearSVC\n",
    "\n",
    "svm = LinearSVC()\n",
    "\n",
    "for train_id, test_id in kf.split(X_train):\n",
    "    \n",
    "    X_train_kf, X_test_kf = X_train[train_id], X_train[test_id]\n",
    "    y_train_kf, y_test_kf = y_train[train_id], y_train[test_id]\n",
    "\n",
    "    svm.fit(X_train_kf, y_train_kf)\n",
    "\n",
    "    y_pred = svm.predict(X_test_kf)\n",
    "    \n",
    "    confusion_mat = confusion_matrix(y_test_kf, y_pred)\n",
    "\n",
    "    print(classification_report(y_test_kf, y_pred, target_names=target_names))"
   ]
  },
  {
   "cell_type": "markdown",
   "metadata": {},
   "source": [
    "### Test model"
   ]
  },
  {
   "cell_type": "code",
   "execution_count": 47,
   "metadata": {},
   "outputs": [
    {
     "name": "stdout",
     "output_type": "stream",
     "text": [
      "[[  305  7904]\n",
      " [  198 87532]] \n",
      "\n",
      "\n",
      "                   precision    recall  f1-score   support\n",
      "\n",
      " No Heart Disease       0.92      1.00      0.96     87730\n",
      "Has Heart Disease       0.61      0.04      0.07      8209\n",
      "\n",
      "         accuracy                           0.92     95939\n",
      "        macro avg       0.76      0.52      0.51     95939\n",
      "     weighted avg       0.89      0.92      0.88     95939\n",
      "\n"
     ]
    }
   ],
   "source": [
    "y_pred = svm.predict(X_test)\n",
    "confusion_mat = confusion_matrix(y_test, y_pred, labels=[1, 0])\n",
    "print(confusion_mat, \"\\n\\n\")\n",
    "\n",
    "print(classification_report(y_test, y_pred, target_names=target_names))"
   ]
  },
  {
   "cell_type": "code",
   "execution_count": 49,
   "metadata": {},
   "outputs": [
    {
     "name": "stdout",
     "output_type": "stream",
     "text": [
      "Accuracy =  0.8392681870616634\n"
     ]
    },
    {
     "data": {
      "image/png": "[encoded data removed]",
      "text/plain": [
       "<Figure size 432x288 with 1 Axes>"
      ]
     },
     "metadata": {
      "needs_background": "light"
     },
     "output_type": "display_data"
    }
   ],
   "source": [
    "y_score = svm.decision_function(X_test)\n",
    "\n",
    "false_positive_rate, true_positive_rate, thresholds = roc_curve(y_test, y_score)\n",
    "\n",
    "roc_auc = auc(false_positive_rate, true_positive_rate)\n",
    "\n",
    "print('Accuracy = ', roc_auc)\n",
    "\n",
    "# Plotting\n",
    "plt.title('ROC')\n",
    "plt.plot(false_positive_rate, true_positive_rate, label=('Accuracy = %0.2f'%roc_auc))\n",
    "plt.legend(loc='lower right', prop={'size':8})\n",
    "plt.plot([0,1],[0,1], color='lightgrey', linestyle='--')\n",
    "plt.xlim([-0.05,1.0])\n",
    "plt.ylim([0.0,1.05])\n",
    "plt.ylabel('True Positive Rate')\n",
    "plt.xlabel('False Positive Rate')\n",
    "plt.show()"
   ]
  }
 ],
 "metadata": {
  "interpreter": {
   "hash": "bb4828e1f19ce6c69818ac3b8c1b6b1b26241c61c52889593341273a8bccc166"
  },
  "kernelspec": {
   "display_name": "Python 3.9.7 ('base')",
   "language": "python",
   "name": "python3"
  },
  "language_info": {
   "codemirror_mode": {
    "name": "ipython",
    "version": 3
   },
   "file_extension": ".py",
   "mimetype": "text/x-python",
   "name": "python",
   "nbconvert_exporter": "python",
   "pygments_lexer": "ipython3",
   "version": "3.9.7"
  },
  "orig_nbformat": 4
 },
 "nbformat": 4,
 "nbformat_minor": 2
}
